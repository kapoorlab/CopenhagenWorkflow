{
 "cells": [
  {
   "cell_type": "code",
   "execution_count": 1,
   "metadata": {},
   "outputs": [
    {
     "name": "stderr",
     "output_type": "stream",
     "text": [
      "/home/debian/miniconda3/envs/kapoorlabsenv/lib/python3.10/site-packages/kornia/feature/lightglue.py:44: FutureWarning: `torch.cuda.amp.custom_fwd(args...)` is deprecated. Please use `torch.amp.custom_fwd(args..., device_type='cuda')` instead.\n",
      "  @torch.cuda.amp.custom_fwd(cast_inputs=torch.float32)\n",
      "2024-07-26 17:41:39.680331: E external/local_xla/xla/stream_executor/cuda/cuda_fft.cc:485] Unable to register cuFFT factory: Attempting to register factory for plugin cuFFT when one has already been registered\n",
      "2024-07-26 17:41:39.715962: E external/local_xla/xla/stream_executor/cuda/cuda_dnn.cc:8454] Unable to register cuDNN factory: Attempting to register factory for plugin cuDNN when one has already been registered\n",
      "2024-07-26 17:41:39.726743: E external/local_xla/xla/stream_executor/cuda/cuda_blas.cc:1452] Unable to register cuBLAS factory: Attempting to register factory for plugin cuBLAS when one has already been registered\n",
      "2024-07-26 17:41:39.757546: I tensorflow/core/platform/cpu_feature_guard.cc:210] This TensorFlow binary is optimized to use available CPU instructions in performance-critical operations.\n",
      "To enable the following instructions: AVX2 FMA, in other operations, rebuild TensorFlow with the appropriate compiler flags.\n",
      "2024-07-26 17:41:41.120217: W tensorflow/compiler/tf2tensorrt/utils/py_utils.cc:38] TF-TRT Warning: Could not find TensorRT\n"
     ]
    }
   ],
   "source": [
    "\n",
    "from pathlib import Path \n",
    "import os\n",
    "import numpy as np\n",
    "import pandas as pd\n",
    "import napari\n",
    "from tifffile import imread \n",
    "from qtpy.QtWidgets import QPushButton\n",
    "from napatrackmater.Trackvector import TrackVector"
   ]
  },
  {
   "cell_type": "code",
   "execution_count": 2,
   "metadata": {},
   "outputs": [],
   "source": [
    "dataset_name = 'Fifth'\n",
    "#/lustre/fsstor/projects/rech/jsy/uzj81mi/\n",
    "home_folder = '/home/debian/jz/'\n",
    "temp_home_folder='/home/debian/scratch_jz/'\n",
    "timelapse_to_track = f'timelapse_{dataset_name.lower()}_dataset'\n",
    "timelapse_image = imread(f'{home_folder}Mari_Data_Oneat/Mari_{dataset_name}_Dataset_Analysis/membrane_timelapses/{timelapse_to_track}.tif', dtype=np.uint8)\n",
    "tracking_directory = f'{home_folder}Mari_Data_Oneat/Mari_{dataset_name}_Dataset_Analysis/nuclei_membrane_tracking/'\n",
    "channel = 'nuclei_'\n",
    "data_frames_dir = os.path.join(tracking_directory, f'dataframes/')\n",
    "master_xml_name = 'master_' + 'marching_cubes_filled_' + channel + timelapse_to_track + \".xml\"\n",
    "xml_path = Path(os.path.join(tracking_directory, master_xml_name))\n",
    "     \n",
    "goblet_cells_file = f'{temp_home_folder}Mari_Data_Oneat/Mari_{dataset_name}_Dataset_Analysis/annotations_predicted/goblet_cells_{channel}annotations_inception.csv'\n",
    "basal_cells_file = f'{temp_home_folder}Mari_Data_Oneat/Mari_{dataset_name}_Dataset_Analysis/annotations_predicted/basal_cells_{channel}annotations_inception.csv'\n",
    "radial_cells_file = f'{temp_home_folder}Mari_Data_Oneat/Mari_{dataset_name}_Dataset_Analysis/annotations_predicted/radially_intercalating_cells_{channel}annotations_inception.csv'\n",
    "\n",
    "\n",
    "goblet_cells_dataframe = pd.read_csv(goblet_cells_file)\n",
    "basal_cells_dataframe = pd.read_csv(basal_cells_file)\n",
    "radial_cells_dataframe = pd.read_csv(radial_cells_file)\n",
    "normalized_dataframe = os.path.join(data_frames_dir , f'results_dataframe_normalized_{channel}.csv')\n",
    "\n",
    "\n",
    "\n",
    "save_dir = f'{temp_home_folder}Mari_Data_Oneat/Mari_{dataset_name}_Dataset_Analysis/annotations_corrected/'\n",
    "Path(save_dir).mkdir(exist_ok=True)\n"
   ]
  },
  {
   "cell_type": "code",
   "execution_count": 3,
   "metadata": {},
   "outputs": [
    {
     "name": "stdout",
     "output_type": "stream",
     "text": [
      "Reading Master XML\n",
      "reading data from /home/debian/jz/Mari_Data_Oneat/Mari_Fifth_Dataset_Analysis/nuclei_membrane_tracking/dataframes/results_dataframe_normalized_nuclei_.csv\n"
     ]
    }
   ],
   "source": [
    "track_vectors = TrackVector(master_xml_path=xml_path)\n",
    "track_vectors.t_minus = 0\n",
    "track_vectors.t_plus = track_vectors.tend\n",
    "track_vectors.y_start = 0\n",
    "track_vectors.y_end = track_vectors.ymax\n",
    "track_vectors.x_start = 0\n",
    "track_vectors.x_end = track_vectors.xmax\n",
    "\n",
    "print(f'reading data from {normalized_dataframe}')\n",
    "correlation_dataframe = pd.read_csv(normalized_dataframe)"
   ]
  },
  {
   "cell_type": "code",
   "execution_count": 4,
   "metadata": {},
   "outputs": [],
   "source": [
    "\n",
    "def get_last_time_point_cell_type(track_ids, dataframe):\n",
    "        results = []\n",
    "        global_t_min = np.inf\n",
    "        for track_id in track_ids:\n",
    "        \n",
    "            selected_dataframe = dataframe[dataframe['Track ID'] == track_id]\n",
    "           \n",
    "            t_max = selected_dataframe['t'].max()\n",
    "            if t_max < global_t_min:\n",
    "                  global_t_min = t_max\n",
    "            row_selected_dataframe = selected_dataframe[selected_dataframe['t']==t_max]\n",
    "\n",
    "            z_max = row_selected_dataframe.iloc[0]['z']\n",
    "            y_max = row_selected_dataframe.iloc[0]['y']\n",
    "            x_max = row_selected_dataframe.iloc[0]['x']\n",
    "            results.append(( t_max, z_max, y_max, x_max))\n",
    "            \n",
    "        return np.asarray(results), global_t_min "
   ]
  },
  {
   "cell_type": "code",
   "execution_count": 5,
   "metadata": {},
   "outputs": [],
   "source": [
    "goblet_ids = goblet_cells_dataframe['Track ID'].unique()\n",
    "basal_ids = basal_cells_dataframe['Track ID'].unique()\n",
    "radial_ids = radial_cells_dataframe['Track ID'].unique()\n",
    "\n",
    "goblet_locations, goblet_t_min = get_last_time_point_cell_type(goblet_ids, correlation_dataframe)\n",
    "basal_locations, basal_t_min = get_last_time_point_cell_type(basal_ids, correlation_dataframe)\n",
    "radial_locations, radial_t_min = get_last_time_point_cell_type(radial_ids, correlation_dataframe)\n",
    "\n",
    "t_min = min(goblet_t_min, basal_t_min, radial_t_min)\n"
   ]
  },
  {
   "cell_type": "code",
   "execution_count": 6,
   "metadata": {},
   "outputs": [
    {
     "data": {
      "text/plain": [
       "155"
      ]
     },
     "execution_count": 6,
     "metadata": {},
     "output_type": "execute_result"
    }
   ],
   "source": [
    "len(goblet_ids)"
   ]
  },
  {
   "cell_type": "code",
   "execution_count": null,
   "metadata": {},
   "outputs": [],
   "source": [
    "last_timepoint_goblet = pd.DataFrame(\n",
    "                        goblet_locations, index=None, columns=[\"T\", \"Z\", \"Y\", \"X\"]\n",
    "                    )\n",
    "last_timepoint_basal = pd.DataFrame(\n",
    "                        basal_locations, index=None, columns=[\"T\", \"Z\", \"Y\", \"X\"]\n",
    "                    )\n",
    "last_timepoint_radial = pd.DataFrame(\n",
    "                        radial_locations, index=None, columns=[\"T\", \"Z\", \"Y\", \"X\"]\n",
    "                    )"
   ]
  },
  {
   "cell_type": "code",
   "execution_count": null,
   "metadata": {},
   "outputs": [],
   "source": [
    "viewer = napari.Viewer()\n",
    "typesavebutton = QPushButton(\"Save Clicks\")\n",
    "\n",
    "def save_layers():\n",
    "    for layer in viewer.layers:\n",
    "        if isinstance(layer, napari.layers.Points):\n",
    "            data = layer.data\n",
    "            filename = os.path.join(save_dir, f\"{layer.name}.csv\")\n",
    "            df = pd.DataFrame(data, columns=['T', 'Z', 'Y', 'X'])\n",
    "            df.to_csv(filename, index=False)\n",
    "            print(f\"Saved {layer.name} to {filename}\")            \n",
    "typesavebutton.clicked.connect(save_layers)\n",
    "viewer.window.add_dock_widget(\n",
    "            typesavebutton, name=\"Save Clicks\", area=\"bottom\"\n",
    "        )\n",
    "viewer.add_image(timelapse_image, name='Image')\n",
    "viewer.add_points(\n",
    "                        data=last_timepoint_goblet,\n",
    "                        name='Goblet',\n",
    "                        face_color='Red',\n",
    "                        ndim=4,\n",
    "                        size= 15\n",
    "                    )\n",
    "viewer.add_points(\n",
    "                        data=last_timepoint_basal,\n",
    "                        name='Basal',\n",
    "                        face_color='Green',\n",
    "                        ndim=4,\n",
    "                        size= 15\n",
    "                    )\n",
    "viewer.add_points(\n",
    "                        data=last_timepoint_radial,\n",
    "                        name='Radial',\n",
    "                        face_color='Blue',\n",
    "                        ndim=4,\n",
    "                        size= 15\n",
    "                    )\n",
    "napari.run()"
   ]
  },
  {
   "cell_type": "code",
   "execution_count": null,
   "metadata": {},
   "outputs": [],
   "source": []
  }
 ],
 "metadata": {
  "kernelspec": {
   "display_name": "kapoorlabsenv",
   "language": "python",
   "name": "python3"
  },
  "language_info": {
   "codemirror_mode": {
    "name": "ipython",
    "version": 3
   },
   "file_extension": ".py",
   "mimetype": "text/x-python",
   "name": "python",
   "nbconvert_exporter": "python",
   "pygments_lexer": "ipython3",
   "version": "3.10.14"
  }
 },
 "nbformat": 4,
 "nbformat_minor": 2
}