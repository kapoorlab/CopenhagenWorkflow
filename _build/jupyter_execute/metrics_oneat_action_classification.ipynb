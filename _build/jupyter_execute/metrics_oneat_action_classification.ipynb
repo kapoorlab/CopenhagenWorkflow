{
 "cells": [
  {
   "cell_type": "code",
   "execution_count": null,
   "metadata": {},
   "outputs": [],
   "source": [
    "\n",
    "from caped_ai_metrics import ClassificationScore"
   ]
  },
  {
   "cell_type": "code",
   "execution_count": null,
   "metadata": {},
   "outputs": [],
   "source": [
    "prediction_csv_file = 'classification_metrics/oneat_mitosis_locations_nuclei_timelapse_test_dataset.csv'\n",
    "ground_truth_csv_file = 'classification_metrics/divisions_3D.csv'\n"
   ]
  },
  {
   "cell_type": "code",
   "execution_count": null,
   "metadata": {},
   "outputs": [],
   "source": [
    "compute_score = ClassificationScore(prediction_csv_file, ground_truth_csv_file, score_thresh = 0.99, time_thresh = 4, space_thresh = 40)\n",
    "dataframe = compute_score.model_scorer()\n"
   ]
  },
  {
   "cell_type": "code",
   "execution_count": null,
   "metadata": {},
   "outputs": [],
   "source": [
    "dataframe"
   ]
  },
  {
   "cell_type": "code",
   "execution_count": null,
   "metadata": {},
   "outputs": [],
   "source": [
    "import pandas as pd\n",
    "\n",
    "data = pd.read_csv(prediction_csv_file)\n",
    "gt_data = pd.read_csv(ground_truth_csv_file)\n",
    "print('Predictions and GT', len(data), len(gt_data))"
   ]
  },
  {
   "cell_type": "code",
   "execution_count": null,
   "metadata": {},
   "outputs": [],
   "source": []
  }
 ],
 "metadata": {
  "kernelspec": {
   "display_name": "kapoorlabsenv",
   "language": "python",
   "name": "python3"
  },
  "language_info": {
   "codemirror_mode": {
    "name": "ipython",
    "version": 3
   },
   "file_extension": ".py",
   "mimetype": "text/x-python",
   "name": "python",
   "nbconvert_exporter": "python",
   "pygments_lexer": "ipython3",
   "version": "3.10.12"
  }
 },
 "nbformat": 4,
 "nbformat_minor": 2
}