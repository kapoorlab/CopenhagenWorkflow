{
 "cells": [
  {
   "cell_type": "code",
   "execution_count": null,
   "metadata": {},
   "outputs": [],
   "source": [
    "from caped_ai_metrics import SegmentationScore\n",
    "from pathlib import Path\n",
    "import os"
   ]
  },
  {
   "cell_type": "code",
   "execution_count": null,
   "metadata": {},
   "outputs": [],
   "source": [
    "current_dir = os.getcwd()\n",
    "prediction_directory = os.path.join(current_dir, 'predictions_nuclei')\n",
    "ground_truth_directory = os.path.join(current_dir, 'ground_truth_nuclei')\n",
    "result_dir = os.path.join(current_dir, 'segmentation_metrics/')\n",
    "Path(result_dir).mkdir(parents=True, exist_ok=True)"
   ]
  },
  {
   "cell_type": "code",
   "execution_count": null,
   "metadata": {},
   "outputs": [],
   "source": [
    "compute_stats = SegmentationScore(ground_truth_directory, prediction_directory, result_dir)\n",
    "compute_stats.seg_stats()\n"
   ]
  },
  {
   "cell_type": "code",
   "execution_count": null,
   "metadata": {},
   "outputs": [],
   "source": [
    "current_dir = os.getcwd()\n",
    "prediction_directory = os.path.join(current_dir, 'predictions_nuclei_vollseg')\n",
    "ground_truth_directory = os.path.join(current_dir, 'ground_truth_nuclei')\n",
    "result_dir = os.path.join(current_dir, 'segmentation_metrics/')\n",
    "Path(result_dir).mkdir(parents=True, exist_ok=True)"
   ]
  },
  {
   "cell_type": "code",
   "execution_count": null,
   "metadata": {},
   "outputs": [],
   "source": [
    "compute_stats = SegmentationScore(ground_truth_directory, prediction_directory, result_dir)\n",
    "compute_stats.seg_stats()"
   ]
  }
 ],
 "metadata": {
  "kernelspec": {
   "display_name": "kapoorlabsenv",
   "language": "python",
   "name": "python3"
  },
  "language_info": {
   "codemirror_mode": {
    "name": "ipython",
    "version": 3
   },
   "file_extension": ".py",
   "mimetype": "text/x-python",
   "name": "python",
   "nbconvert_exporter": "python",
   "pygments_lexer": "ipython3",
   "version": "3.10.12"
  }
 },
 "nbformat": 4,
 "nbformat_minor": 2
}