{
 "cells": [
  {
   "cell_type": "code",
   "execution_count": 58,
   "metadata": {},
   "outputs": [],
   "source": [
    "from pathlib import Path \n",
    "import os\n",
    "import numpy as np\n",
    "import pandas as pd\n",
    "import matplotlib.pyplot as plt\n",
    "import seaborn as sns\n",
    "from tqdm import tqdm\n",
    "from napatrackmater.Trackvector import (TrackVector,\n",
    "                                        SHAPE_FEATURES, \n",
    "                                        DYNAMIC_FEATURES, \n",
    "                                        SHAPE_DYNAMIC_FEATURES,\n",
    "                                        \n",
    "                                        )"
   ]
  },
  {
   "cell_type": "code",
   "execution_count": 61,
   "metadata": {},
   "outputs": [
    {
     "name": "stdout",
     "output_type": "stream",
     "text": [
      "Predicted dataframe 336, gt dataframe 263\n"
     ]
    }
   ],
   "source": [
    "dataset_name = 'Fifth'\n",
    "home_folder = '/home/debian/jz/'\n",
    "timelapse_to_track = f'timelapse_{dataset_name.lower()}_dataset'\n",
    "tracking_directory = f'{home_folder}Mari_Data_Oneat/Mari_{dataset_name}_Dataset_Analysis/nuclei_membrane_tracking/'\n",
    "channel = 'nuclei_'\n",
    "data_frames_dir = os.path.join(tracking_directory, f'dataframes/')\n",
    "save_dir = os.path.join(tracking_directory, f'mitosis_accuracy/')\n",
    "Path(save_dir).mkdir(exist_ok=True)\n",
    "master_xml_name = 'master_' + 'marching_cubes_filled_' + channel + timelapse_to_track + \".xml\"\n",
    "xml_path = Path(os.path.join(tracking_directory, master_xml_name))\n",
    "\n",
    "\n",
    "mitosis_cells_file = f'{home_folder}Mari_Data_Oneat/Mari_{dataset_name}_Dataset_Analysis/mitosis_predicted_tracklet_length_50_t_initial_50_t_final_150/mitosis_inception.csv'\n",
    "\n",
    "mitosis_cells_dataframe = pd.read_csv(mitosis_cells_file)\n",
    "\n",
    "\n",
    "\n",
    "oneat_mitosis_file = f'{home_folder}Mari_Data_Oneat/Mari_{dataset_name}_Dataset_Analysis/oneat_detections/non_maximal_oneat_mitosis_locations_{channel}{timelapse_to_track}.csv'\n",
    "\n",
    "gt_mitosis_dataframe = pd.read_csv(os.path.join(data_frames_dir , f'results_dataframe_normalized_{channel}.csv'))\n",
    "\n",
    "\n",
    "gt_mitosis_dataframe = gt_mitosis_dataframe[gt_mitosis_dataframe['Dividing'] == 1.0]\n",
    "gt_mitosis_track_ids = gt_mitosis_dataframe['TrackMate Track ID'].unique()\n",
    "print(f'Predicted dataframe {len(mitosis_cells_dataframe)}, gt dataframe {len(gt_mitosis_track_ids)}')"
   ]
  },
  {
   "cell_type": "code",
   "execution_count": 62,
   "metadata": {},
   "outputs": [
    {
     "name": "stdout",
     "output_type": "stream",
     "text": [
      "Reading Master XML\n"
     ]
    }
   ],
   "source": [
    "track_vectors = TrackVector(master_xml_path=xml_path)\n",
    "track_vectors.t_minus = 0\n",
    "track_vectors.t_plus = track_vectors.tend\n",
    "track_vectors.y_start = 0\n",
    "track_vectors.y_end = track_vectors.ymax\n",
    "track_vectors.x_start = 0\n",
    "track_vectors.x_end = track_vectors.xmax\n",
    "\n",
    "track_vectors._interactive_function()"
   ]
  },
  {
   "cell_type": "code",
   "execution_count": null,
   "metadata": {},
   "outputs": [],
   "source": [
    "\n",
    "\n",
    "\n",
    "mitosis_track_ids = track_vectors._get_trackmate_ids_by_location(mitosis_cells_dataframe)\n",
    "print(f'Trackmate IDs for mitosis cells {mitosis_track_ids}')\n",
    "\n",
    "\n",
    "\n"
   ]
  },
  {
   "cell_type": "code",
   "execution_count": null,
   "metadata": {},
   "outputs": [],
   "source": [
    "class_map = {\n",
    "    1: \"Mitosis\",\n",
    "}\n",
    "def compute_tp_fn(predicted_ids, gt_ids):\n",
    "    tp = len(set(predicted_ids) & set(gt_ids))\n",
    "    fn = len(set(gt_ids) - set(predicted_ids))\n",
    "    return tp, fn\n",
    "\n",
    "# Compute TP and FN for each category\n",
    "tp_mitosis, fn_mitosis = compute_tp_fn(mitosis_track_ids, gt_mitosis_track_ids)\n",
    "\n",
    "\n",
    "# Print results\n",
    "print(f'Mitosis Cells - TP: {tp_mitosis}, FN: {fn_mitosis}')\n",
    "\n",
    "# Create a confusion matrix\n",
    "confusion_matrix = {\n",
    "    'Category': ['Mitosis'],\n",
    "    'TP': [tp_mitosis],\n",
    "    'FN': [fn_mitosis]\n",
    "}\n",
    "\n",
    "print(\"\\nConfusion Matrix:\")\n",
    "print(\"{:<10} {:<5} {:<5}\".format('Category', 'TP', 'FN'))\n",
    "for i in range(len(confusion_matrix['Category'])):\n",
    "    print(\"{:<10} {:<5} {:<5}\".format(confusion_matrix['Category'][i], confusion_matrix['TP'][i], confusion_matrix['FN'][i]))\n",
    "\n",
    "\n",
    "conf_matrix_array = np.array([\n",
    "    [tp_mitosis, fn_mitosis]\n",
    "])\n",
    "\n",
    "# Plot the confusion matrix\n",
    "plt.figure(figsize=(8, 6))\n",
    "class_names = list(class_map.values())\n",
    "sns.heatmap(conf_matrix_array, annot=True, fmt='d', cmap='Blues', xticklabels=['TP', 'FN'], yticklabels=class_names)\n",
    "plt.xlabel('Predicted Labels')\n",
    "plt.ylabel('True Labels')\n",
    "plt.title('Confusion Matrix')\n",
    "plt.show()    \n"
   ]
  },
  {
   "cell_type": "code",
   "execution_count": null,
   "metadata": {},
   "outputs": [],
   "source": [
    "# Total ground truth counts for each category\n",
    "total_mitosis = len(gt_mitosis_track_ids)\n",
    "\n",
    "\n",
    "# Calculate percentages\n",
    "percent_tp_mitosis = (tp_mitosis / total_mitosis) * 100 if total_mitosis > 0 else 0\n",
    "percent_fn_mitosis = (fn_mitosis / total_mitosis) * 100 if total_mitosis > 0 else 0\n",
    "\n",
    "\n",
    "# Print results\n",
    "print(f'Mitosis Cells - TP: {percent_tp_mitosis:.2f}%, FN: {percent_fn_mitosis:.2f}%')\n",
    "\n",
    "# Create a confusion matrix array\n",
    "conf_matrix_array = np.array([\n",
    "    [percent_tp_mitosis, percent_fn_mitosis]\n",
    "])\n",
    "\n",
    "save_path = Path(mitosis_cells_file).parent.stem\n",
    "# Plot the confusion matrix\n",
    "plt.figure(figsize=(8, 6))\n",
    "class_names = list(class_map.values())\n",
    "sns.heatmap(conf_matrix_array, annot=True, fmt='.2f', cmap='Blues', xticklabels=['TP', 'FN'], yticklabels=class_names)\n",
    "plt.xlabel('Predicted Labels')\n",
    "plt.ylabel('True Labels')\n",
    "plt.title('Confusion Matrix (Percentages)')\n",
    "plt.savefig(os.path.join(save_dir,save_path + '.png'))\n",
    "plt.show()"
   ]
  },
  {
   "cell_type": "code",
   "execution_count": null,
   "metadata": {},
   "outputs": [],
   "source": []
  },
  {
   "cell_type": "code",
   "execution_count": null,
   "metadata": {},
   "outputs": [],
   "source": []
  }
 ],
 "metadata": {
  "kernelspec": {
   "display_name": "kapoorlabsenv",
   "language": "python",
   "name": "python3"
  },
  "language_info": {
   "codemirror_mode": {
    "name": "ipython",
    "version": 3
   },
   "file_extension": ".py",
   "mimetype": "text/x-python",
   "name": "python",
   "nbconvert_exporter": "python",
   "pygments_lexer": "ipython3",
   "version": "3.10.14"
  }
 },
 "nbformat": 4,
 "nbformat_minor": 2
}
