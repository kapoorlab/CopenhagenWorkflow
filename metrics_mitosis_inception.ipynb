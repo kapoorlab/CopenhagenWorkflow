{
 "cells": [
  {
   "cell_type": "code",
   "execution_count": 1,
   "metadata": {},
   "outputs": [
    {
     "name": "stderr",
     "output_type": "stream",
     "text": [
      "/home/debian/miniconda3/envs/kapoorlabsenv/lib/python3.10/site-packages/kornia/feature/lightglue.py:44: FutureWarning: `torch.cuda.amp.custom_fwd(args...)` is deprecated. Please use `torch.amp.custom_fwd(args..., device_type='cuda')` instead.\n",
      "  @torch.cuda.amp.custom_fwd(cast_inputs=torch.float32)\n",
      "2024-08-13 15:55:07.467448: E external/local_xla/xla/stream_executor/cuda/cuda_fft.cc:485] Unable to register cuFFT factory: Attempting to register factory for plugin cuFFT when one has already been registered\n",
      "2024-08-13 15:55:07.515460: E external/local_xla/xla/stream_executor/cuda/cuda_dnn.cc:8454] Unable to register cuDNN factory: Attempting to register factory for plugin cuDNN when one has already been registered\n",
      "2024-08-13 15:55:07.526346: E external/local_xla/xla/stream_executor/cuda/cuda_blas.cc:1452] Unable to register cuBLAS factory: Attempting to register factory for plugin cuBLAS when one has already been registered\n",
      "2024-08-13 15:55:07.559625: I tensorflow/core/platform/cpu_feature_guard.cc:210] This TensorFlow binary is optimized to use available CPU instructions in performance-critical operations.\n",
      "To enable the following instructions: AVX2 FMA, in other operations, rebuild TensorFlow with the appropriate compiler flags.\n",
      "2024-08-13 15:55:09.200280: W tensorflow/compiler/tf2tensorrt/utils/py_utils.cc:38] TF-TRT Warning: Could not find TensorRT\n"
     ]
    }
   ],
   "source": [
    "from pathlib import Path \n",
    "import os\n",
    "import numpy as np\n",
    "import pandas as pd\n",
    "import matplotlib.pyplot as plt\n",
    "import seaborn as sns\n",
    "from tqdm import tqdm\n",
    "from napatrackmater.Trackvector import (TrackVector,\n",
    "                                        SHAPE_FEATURES, \n",
    "                                        DYNAMIC_FEATURES, \n",
    "                                        SHAPE_DYNAMIC_FEATURES,\n",
    "                                        \n",
    "                                        )"
   ]
  },
  {
   "cell_type": "code",
   "execution_count": 2,
   "metadata": {},
   "outputs": [],
   "source": [
    "dataset_name = 'Fifth'\n",
    "home_folder = '/home/debian/jz/'\n",
    "timelapse_to_track = f'timelapse_{dataset_name.lower()}_dataset'\n",
    "tracking_directory = f'{home_folder}Mari_Data_Oneat/Mari_{dataset_name}_Dataset_Analysis/nuclei_membrane_tracking/'\n",
    "channel = 'nuclei_'\n",
    "data_frames_dir = os.path.join(tracking_directory, f'dataframes/')\n",
    "save_dir = os.path.join(tracking_directory, f'mitosis_accuracy/')\n",
    "Path(save_dir).mkdir(exist_ok=True)\n",
    "master_xml_name = 'master_' + 'marching_cubes_filled_' + channel + timelapse_to_track + \".xml\"\n",
    "xml_path = Path(os.path.join(tracking_directory, master_xml_name))\n",
    "  \n",
    "mitosis_cells_file = f'{home_folder}Mari_Data_Oneat/Mari_{dataset_name}_Dataset_Analysis/mitosis_predicted_tracklet_length_25_t_initial_0_t_final_100/mitosis_inception.csv'\n",
    "\n",
    "mitosis_cells_dataframe = pd.read_csv(mitosis_cells_file)\n",
    "\n",
    "\n",
    "\n",
    "oneat_mitosis_file = f'{home_folder}Mari_Data_Oneat/Mari_{dataset_name}_Dataset_Analysis/oneat_detections/non_maximal_oneat_mitosis_locations_{channel}{timelapse_to_track}.csv'\n",
    "\n",
    "gt_mitosis_dataframe = pd.read_csv(oneat_mitosis_file)\n",
    "\n"
   ]
  },
  {
   "cell_type": "code",
   "execution_count": 3,
   "metadata": {},
   "outputs": [
    {
     "name": "stdout",
     "output_type": "stream",
     "text": [
      "Reading Master XML\n",
      "Iterating over spots in frame\n",
      "Iterating over tracks 901\n",
      "getting attributes\n",
      "returning shape and dynamic vectors as list 1332\n"
     ]
    }
   ],
   "source": [
    "track_vectors = TrackVector(master_xml_path=xml_path)\n",
    "track_vectors.t_minus = 0\n",
    "track_vectors.t_plus = track_vectors.tend\n",
    "track_vectors.y_start = 0\n",
    "track_vectors.y_end = track_vectors.ymax\n",
    "track_vectors.x_start = 0\n",
    "track_vectors.x_end = track_vectors.xmax\n",
    "\n",
    "track_vectors._interactive_function()"
   ]
  },
  {
   "cell_type": "code",
   "execution_count": 4,
   "metadata": {},
   "outputs": [],
   "source": [
    "gt_mitosis_track_ids = track_vectors._get_trackmate_ids_by_location(gt_mitosis_dataframe)\n",
    "print(f'GT Trackmate IDs for mitosis cells {gt_mitosis_track_ids}')"
   ]
  },
  {
   "cell_type": "code",
   "execution_count": null,
   "metadata": {},
   "outputs": [],
   "source": [
    "\n",
    "\n",
    "\n",
    "mitosis_track_ids = track_vectors._get_trackmate_ids_by_location(mitosis_cells_dataframe)\n",
    "print(f'Trackmate IDs for mitosis cells {mitosis_track_ids}')\n",
    "\n",
    "\n",
    "\n"
   ]
  },
  {
   "cell_type": "code",
   "execution_count": null,
   "metadata": {},
   "outputs": [],
   "source": [
    "class_map = {\n",
    "    1: \"Mitosis\",\n",
    "}\n",
    "def compute_tp_fn(predicted_ids, gt_ids):\n",
    "    tp = len(set(predicted_ids) & set(gt_ids))\n",
    "    fn = len(set(gt_ids) - set(predicted_ids))\n",
    "    return tp, fn\n",
    "\n",
    "# Compute TP and FN for each category\n",
    "tp_mitosis, fn_mitosis = compute_tp_fn(mitosis_track_ids, gt_mitosis_track_ids)\n",
    "\n",
    "\n",
    "# Print results\n",
    "print(f'Mitosis Cells - TP: {tp_mitosis}, FN: {fn_mitosis}')\n",
    "\n",
    "# Create a confusion matrix\n",
    "confusion_matrix = {\n",
    "    'Category': ['Mitosis'],\n",
    "    'TP': [tp_mitosis],\n",
    "    'FN': [fn_mitosis]\n",
    "}\n",
    "\n",
    "print(\"\\nConfusion Matrix:\")\n",
    "print(\"{:<10} {:<5} {:<5}\".format('Category', 'TP', 'FN'))\n",
    "for i in range(len(confusion_matrix['Category'])):\n",
    "    print(\"{:<10} {:<5} {:<5}\".format(confusion_matrix['Category'][i], confusion_matrix['TP'][i], confusion_matrix['FN'][i]))\n",
    "\n",
    "\n",
    "conf_matrix_array = np.array([\n",
    "    [tp_mitosis, fn_mitosis]\n",
    "])\n",
    "\n",
    "# Plot the confusion matrix\n",
    "plt.figure(figsize=(8, 6))\n",
    "class_names = list(class_map.values())\n",
    "sns.heatmap(conf_matrix_array, annot=True, fmt='d', cmap='Blues', xticklabels=['TP', 'FN'], yticklabels=class_names)\n",
    "plt.xlabel('Predicted Labels')\n",
    "plt.ylabel('True Labels')\n",
    "plt.title('Confusion Matrix')\n",
    "plt.show()    \n"
   ]
  },
  {
   "cell_type": "code",
   "execution_count": null,
   "metadata": {},
   "outputs": [],
   "source": [
    "# Total ground truth counts for each category\n",
    "total_mitosis = len(gt_mitosis_track_ids)\n",
    "\n",
    "\n",
    "# Calculate percentages\n",
    "percent_tp_mitosis = (tp_mitosis / total_mitosis) * 100 if total_mitosis > 0 else 0\n",
    "percent_fn_mitosis = (fn_mitosis / total_mitosis) * 100 if total_mitosis > 0 else 0\n",
    "\n",
    "\n",
    "# Print results\n",
    "print(f'Mitosis Cells - TP: {percent_tp_mitosis:.2f}%, FN: {percent_fn_mitosis:.2f}%')\n",
    "\n",
    "# Create a confusion matrix array\n",
    "conf_matrix_array = np.array([\n",
    "    [percent_tp_mitosis, percent_fn_mitosis]\n",
    "])\n",
    "\n",
    "save_path = Path(mitosis_cells_file).parent.stem\n",
    "# Plot the confusion matrix\n",
    "plt.figure(figsize=(8, 6))\n",
    "class_names = list(class_map_gbr.values())\n",
    "sns.heatmap(conf_matrix_array, annot=True, fmt='.2f', cmap='Blues', xticklabels=['TP', 'FN'], yticklabels=class_names)\n",
    "plt.xlabel('Predicted Labels')\n",
    "plt.ylabel('True Labels')\n",
    "plt.title('Confusion Matrix (Percentages)')\n",
    "plt.savefig(os.path.join(save_dir,save_path + '.png'))\n",
    "plt.show()"
   ]
  },
  {
   "cell_type": "code",
   "execution_count": null,
   "metadata": {},
   "outputs": [],
   "source": []
  },
  {
   "cell_type": "code",
   "execution_count": null,
   "metadata": {},
   "outputs": [],
   "source": []
  }
 ],
 "metadata": {
  "kernelspec": {
   "display_name": "kapoorlabsenv",
   "language": "python",
   "name": "python3"
  },
  "language_info": {
   "codemirror_mode": {
    "name": "ipython",
    "version": 3
   },
   "file_extension": ".py",
   "mimetype": "text/x-python",
   "name": "python",
   "nbconvert_exporter": "python",
   "pygments_lexer": "ipython3",
   "version": "3.10.14"
  }
 },
 "nbformat": 4,
 "nbformat_minor": 2
}
