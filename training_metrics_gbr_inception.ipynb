{
 "cells": [
  {
   "cell_type": "code",
   "execution_count": null,
   "metadata": {},
   "outputs": [],
   "source": [
    "import os\n",
    "from pathlib import Path\n",
    "\n",
    "from kapoorlabs_lightning import plot_npz_files\n"
   ]
  },
  {
   "cell_type": "code",
   "execution_count": null,
   "metadata": {},
   "outputs": [],
   "source": [
    "base_dir =  '/home/debian/jz/Mari_Data_Training/track_training_data/'\n",
    "model_dir = '/home/debian/jz/Mari_Models/TrackModels/'\n",
    "lightning_shape_model_dir = Path(os.path.join(model_dir,'shape_feature_lightning_densenet_gbr_10/'))\n",
    "lightning_dynamic_model_dir = Path(os.path.join(model_dir,'dynamic_feature_lightning_densenet_gbr_10/'))\n",
    "\n"
   ]
  },
  {
   "cell_type": "code",
   "execution_count": null,
   "metadata": {},
   "outputs": [],
   "source": [
    "npz_file_shape = [lightning_shape_model_dir/file for file in os.listdir(lightning_shape_model_dir) if file.endswith('.npz')]\n",
    "npz_file_dynamic = [lightning_dynamic_model_dir/file for file in os.listdir(lightning_dynamic_model_dir) if file.endswith('.npz')]\n",
    "\n",
    "plot_npz_files(npz_file_shape)\n",
    "plot_npz_files(npz_file_dynamic)"
   ]
  }
 ],
 "metadata": {
  "kernelspec": {
   "display_name": "kapoorlabsenv",
   "language": "python",
   "name": "python3"
  },
  "language_info": {
   "codemirror_mode": {
    "name": "ipython",
    "version": 3
   },
   "file_extension": ".py",
   "mimetype": "text/x-python",
   "name": "python",
   "nbconvert_exporter": "python",
   "pygments_lexer": "ipython3",
   "version": "3.10.14"
  }
 },
 "nbformat": 4,
 "nbformat_minor": 2
}
