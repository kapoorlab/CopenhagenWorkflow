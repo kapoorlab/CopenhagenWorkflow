{
 "cells": [
  {
   "cell_type": "code",
   "execution_count": 6,
   "metadata": {},
   "outputs": [],
   "source": [
    "from pathlib import Path \n",
    "import os\n",
    "import torch\n",
    "import pandas as pd\n",
    "from tqdm import tqdm\n",
    "import ipywidgets as widgets\n",
    "from IPython.display import display, clear_output\n",
    "from torch.nn.modules.loss import CrossEntropyLoss\n",
    "from kapoorlabs_lightning.optimizers import Adam\n",
    "from kapoorlabs_lightning.pytorch_models import HybridAttentionDenseNet\n",
    "from kapoorlabs_lightning.lightning_trainer import LightningModel\n",
    "from napatrackmater.Trackvector import (\n",
    "    inception_model_prediction,\n",
    "    save_cell_type_predictions,\n",
    "    SHAPE_DYNAMIC_FEATURES\n",
    ")"
   ]
  },
  {
   "cell_type": "code",
   "execution_count": 21,
   "metadata": {},
   "outputs": [
    {
     "name": "stdout",
     "output_type": "stream",
     "text": [
      "reading data from /home/debian/jz/Mari_Data_Oneat/Mari_Sixth_Dataset_Analysis/nuclei_membrane_tracking/dataframes/goblet_basal_dataframe_normalized_nuclei_.csv\n"
     ]
    },
    {
     "name": "stderr",
     "output_type": "stream",
     "text": [
      "/home/debian/python_workspace/KapoorLabs-Lightning/src/kapoorlabs_lightning/lightning_trainer.py:1135: You are using `torch.load` with `weights_only=False` (the current default value), which uses the default pickle module implicitly. It is possible to construct malicious pickle data which will execute arbitrary code during unpickling (See https://github.com/pytorch/pytorch/blob/main/SECURITY.md#untrusted-models for more details). In a future release, the default value for `weights_only` will be flipped to `True`. This limits the functions that could be executed during unpickling. Arbitrary objects will no longer be allowed to be loaded via this mode unless they are explicitly allowlisted by the user via `torch.serialization.add_safe_globals`. We recommend you start setting `weights_only=True` for any use case where you don't have full control of the loaded file. Please open an issue on GitHub for any issues related to this experimental feature.\n"
     ]
    },
    {
     "data": {
      "text/plain": [
       "HybridAttentionDenseNet(\n",
       "  (temporal_encoding): TemporalEncoding()\n",
       "  (features): Sequential(\n",
       "    (conv_init): Conv1d(18, 32, kernel_size=(7,), stride=(2,), padding=(3,))\n",
       "    (bn_init): BatchNorm1d(32, eps=1e-05, momentum=0.1, affine=True, track_running_stats=True)\n",
       "    (relu_init): ReLU(inplace=True)\n",
       "    (maxpool_init): MaxPool1d(kernel_size=3, stride=2, padding=1, dilation=1, ceil_mode=False)\n",
       "    (denseblock0): DenseBlock(\n",
       "      (denselayer0): DenseLayer(\n",
       "        (bn2): BatchNorm1d(32, eps=1e-05, momentum=0.1, affine=True, track_running_stats=True)\n",
       "        (act2): ReLU(inplace=True)\n",
       "        (conv2): Conv1d(32, 16, kernel_size=(1,), stride=(1,))\n",
       "        (bn1): BatchNorm1d(16, eps=1e-05, momentum=0.1, affine=True, track_running_stats=True)\n",
       "        (act1): ReLU(inplace=True)\n",
       "        (conv1): Conv1d(16, 4, kernel_size=(3,), stride=(1,), padding=(1,))\n",
       "      )\n",
       "      (denselayer1): DenseLayer(\n",
       "        (bn2): BatchNorm1d(36, eps=1e-05, momentum=0.1, affine=True, track_running_stats=True)\n",
       "        (act2): ReLU(inplace=True)\n",
       "        (conv2): Conv1d(36, 16, kernel_size=(1,), stride=(1,))\n",
       "        (bn1): BatchNorm1d(16, eps=1e-05, momentum=0.1, affine=True, track_running_stats=True)\n",
       "        (act1): ReLU(inplace=True)\n",
       "        (conv1): Conv1d(16, 4, kernel_size=(3,), stride=(1,), padding=(1,))\n",
       "      )\n",
       "      (denselayer2): DenseLayer(\n",
       "        (bn2): BatchNorm1d(40, eps=1e-05, momentum=0.1, affine=True, track_running_stats=True)\n",
       "        (act2): ReLU(inplace=True)\n",
       "        (conv2): Conv1d(40, 16, kernel_size=(1,), stride=(1,))\n",
       "        (bn1): BatchNorm1d(16, eps=1e-05, momentum=0.1, affine=True, track_running_stats=True)\n",
       "        (act1): ReLU(inplace=True)\n",
       "        (conv1): Conv1d(16, 4, kernel_size=(3,), stride=(1,), padding=(1,))\n",
       "      )\n",
       "      (denselayer3): DenseLayer(\n",
       "        (bn2): BatchNorm1d(44, eps=1e-05, momentum=0.1, affine=True, track_running_stats=True)\n",
       "        (act2): ReLU(inplace=True)\n",
       "        (conv2): Conv1d(44, 16, kernel_size=(1,), stride=(1,))\n",
       "        (bn1): BatchNorm1d(16, eps=1e-05, momentum=0.1, affine=True, track_running_stats=True)\n",
       "        (act1): ReLU(inplace=True)\n",
       "        (conv1): Conv1d(16, 4, kernel_size=(3,), stride=(1,), padding=(1,))\n",
       "      )\n",
       "      (denselayer4): DenseLayer(\n",
       "        (bn2): BatchNorm1d(48, eps=1e-05, momentum=0.1, affine=True, track_running_stats=True)\n",
       "        (act2): ReLU(inplace=True)\n",
       "        (conv2): Conv1d(48, 16, kernel_size=(1,), stride=(1,))\n",
       "        (bn1): BatchNorm1d(16, eps=1e-05, momentum=0.1, affine=True, track_running_stats=True)\n",
       "        (act1): ReLU(inplace=True)\n",
       "        (conv1): Conv1d(16, 4, kernel_size=(3,), stride=(1,), padding=(1,))\n",
       "      )\n",
       "      (denselayer5): DenseLayer(\n",
       "        (bn2): BatchNorm1d(52, eps=1e-05, momentum=0.1, affine=True, track_running_stats=True)\n",
       "        (act2): ReLU(inplace=True)\n",
       "        (conv2): Conv1d(52, 16, kernel_size=(1,), stride=(1,))\n",
       "        (bn1): BatchNorm1d(16, eps=1e-05, momentum=0.1, affine=True, track_running_stats=True)\n",
       "        (act1): ReLU(inplace=True)\n",
       "        (conv1): Conv1d(16, 4, kernel_size=(3,), stride=(1,), padding=(1,))\n",
       "      )\n",
       "    )\n",
       "    (attentionblock0): Sequential(\n",
       "      (0): Linear(in_features=56, out_features=64, bias=True)\n",
       "      (1): Tanh()\n",
       "      (2): Linear(in_features=64, out_features=1, bias=False)\n",
       "    )\n",
       "  )\n",
       "  (final_bn): BatchNorm1d(56, eps=1e-05, momentum=0.1, affine=True, track_running_stats=True)\n",
       "  (final_act): ReLU(inplace=True)\n",
       "  (fc): Linear(in_features=56, out_features=3, bias=True)\n",
       ")"
      ]
     },
     "execution_count": 21,
     "metadata": {},
     "output_type": "execute_result"
    }
   ],
   "source": [
    "dataset_name = 'Sixth'\n",
    "home_folder = '/home/debian/jz/'\n",
    "model_dir = f'{home_folder}Mari_Models/TrackModels/'\n",
    "mitosis_model_name = 'morphodynamic_feature_mitosis_25_growth_rate_16'\n",
    "gbr_model_name = 'morpho_feature_attention_shallowest_litest_nuclei_'\n",
    "channel = 'nuclei_'\n",
    "tracking_directory = f'{home_folder}Mari_Data_Oneat/Mari_{dataset_name}_Dataset_Analysis/nuclei_membrane_tracking/'\n",
    "data_frames_dir = os.path.join(tracking_directory, f'dataframes/')\n",
    "\n",
    "device = 'cuda' if torch.cuda.is_available() else 'cpu'\n",
    "tracklet_length = 25\n",
    "normalized_dataframe = os.path.join(data_frames_dir , f'goblet_basal_dataframe_normalized_{channel}.csv')\n",
    "print(f'reading data from {normalized_dataframe}')\n",
    "tracks_dataframe = pd.read_csv(normalized_dataframe)\n",
    "\n",
    "mitosis_morpho_model_json = f'{model_dir}{mitosis_model_name}/morphodynamic_mitosis_densenet.json'\n",
    "gbr_morpho_model_json = f'{model_dir}{gbr_model_name}/morpho_attention.json'\n",
    "class_map_mitosis = {\n",
    "    0: \"Non-Mitotic\",\n",
    "    1: \"Mitotic\",\n",
    "}\n",
    "class_map_gbr = {\n",
    "        0: \"Basal\",\n",
    "        1: \"Radial\",\n",
    "        2: \"Goblet\"\n",
    "    }\n",
    "loss_func =  CrossEntropyLoss()\n",
    "\n",
    "mitosis_morpho_lightning_model, mitosis_morpho_torch_model = LightningModel.extract_mitosis_model(\n",
    "    HybridAttentionDenseNet,\n",
    "    mitosis_morpho_model_json,\n",
    "    loss_func,\n",
    "    Adam,\n",
    "    map_location=torch.device(device),\n",
    "    local_model_path=os.path.join(model_dir, mitosis_model_name)\n",
    ")\n",
    "\n",
    "mitosis_morpho_torch_model.eval()\n",
    "\n",
    "gbr_morpho_lightning_model, gbr_morpho_torch_model = LightningModel.extract_mitosis_model(\n",
    "    HybridAttentionDenseNet,\n",
    "    gbr_morpho_model_json,\n",
    "    loss_func,\n",
    "    Adam,\n",
    "    map_location=torch.device(device),\n",
    "    local_model_path=os.path.join(model_dir, gbr_model_name)\n",
    ")\n",
    "\n",
    "gbr_morpho_torch_model.eval()\n"
   ]
  },
  {
   "cell_type": "code",
   "execution_count": 43,
   "metadata": {},
   "outputs": [
    {
     "data": {
      "application/vnd.jupyter.widget-view+json": {
       "model_id": "2d686087406f4f6192acd46d94d322fd",
       "version_major": 2,
       "version_minor": 0
      },
      "text/plain": [
       "SelectionSlider(continuous_update=False, description='TrackMate ID:', index=124, options=(115, 189, 111, 145, …"
      ]
     },
     "metadata": {},
     "output_type": "display_data"
    },
    {
     "data": {
      "application/vnd.jupyter.widget-view+json": {
       "model_id": "6cc2f96843cf42b5ace0c9d1ed5febdf",
       "version_major": 2,
       "version_minor": 0
      },
      "text/plain": [
       "BoundedIntText(value=115, description='TrackMate ID:', max=4041, min=1)"
      ]
     },
     "metadata": {},
     "output_type": "display_data"
    },
    {
     "name": "stdout",
     "output_type": "stream",
     "text": [
      "Processing TrackMate Track ID: 397\n",
      "Trackmate ID: 397,  GT mitosis track '0.0' GT gbr track 'Basal', track duration 46466\n",
      "Prediction mitosis track 'Non-Mitotic' Prediction gbr track 'Basal'\n"
     ]
    }
   ],
   "source": [
    "all_trackmate_ids = [trackid  for trackid in tracks_dataframe['TrackMate Track ID'].unique()]\n",
    "\n",
    "\n",
    "trackmate_slider = widgets.SelectionSlider(\n",
    "    options=all_trackmate_ids,  \n",
    "    value=all_trackmate_ids[0],  \n",
    "    description=\"TrackMate ID:\",\n",
    "    continuous_update=False\n",
    ")\n",
    "\n",
    "trackmate_textbox = widgets.BoundedIntText(\n",
    "    value=all_trackmate_ids[0], \n",
    "    min=min(all_trackmate_ids),\n",
    "    max=max(all_trackmate_ids),\n",
    "    description=\"TrackMate ID:\",\n",
    ")\n",
    "\n",
    "def update_trackmate_id(change):\n",
    "    trackmate_id = change['new']\n",
    "    \n",
    "    trackmate_slider.value = trackmate_id\n",
    "    trackmate_textbox.value = trackmate_id\n",
    "    \n",
    "    process_trackmate_id(trackmate_id)\n",
    "\n",
    "def process_trackmate_id(trackmate_id):\n",
    "    \n",
    "    \n",
    "    clear_output(wait=True)\n",
    "    display(trackmate_slider, trackmate_textbox)\n",
    "    print(f\"Processing TrackMate Track ID: {trackmate_id}\")\n",
    "    \n",
    "    gbr_prediction = inception_model_prediction(tracks_dataframe, trackmate_id, tracklet_length, class_map_gbr, morphodynamic_model=gbr_morpho_torch_model, device=device)\n",
    "    mitosis_prediction = inception_model_prediction(tracks_dataframe, trackmate_id, tracklet_length, class_map_mitosis, morphodynamic_model=mitosis_morpho_torch_model, device=device)\n",
    "    if len(tracks_dataframe[tracks_dataframe['TrackMate Track ID'] == trackmate_id]) > 0:\n",
    "        track_duration = tracks_dataframe[tracks_dataframe['TrackMate Track ID'] == trackmate_id]['Track Duration'].iloc[0]\n",
    "        track_mitosis = tracks_dataframe[tracks_dataframe['TrackMate Track ID'] == trackmate_id]['Dividing'].iloc[0]\n",
    "        track_celltype = tracks_dataframe[tracks_dataframe['TrackMate Track ID'] == trackmate_id]['Cell_Type'].iloc[0]\n",
    "        print(f\"Trackmate ID: {trackmate_id},  GT mitosis track '{track_mitosis}' GT gbr track '{track_celltype}', track duration {track_duration}\")\n",
    "        print(f\"Prediction mitosis track '{mitosis_prediction}' Prediction gbr track '{gbr_prediction}'\")\n",
    "    else:\n",
    "        print(f'Dataframe is empty skipping {trackmate_id}')    \n",
    "\n",
    "def on_slider_change(change):\n",
    "    process_trackmate_id(change['new'])\n",
    "\n",
    "\n",
    "\n",
    "trackmate_slider.observe(on_slider_change, names='value')\n",
    "trackmate_textbox.observe(update_trackmate_id, names='value')\n",
    "\n",
    "process_trackmate_id(trackmate_slider.value)"
   ]
  },
  {
   "cell_type": "code",
   "execution_count": null,
   "metadata": {},
   "outputs": [],
   "source": []
  }
 ],
 "metadata": {
  "kernelspec": {
   "display_name": "capedenv",
   "language": "python",
   "name": "python3"
  },
  "language_info": {
   "codemirror_mode": {
    "name": "ipython",
    "version": 3
   },
   "file_extension": ".py",
   "mimetype": "text/x-python",
   "name": "python",
   "nbconvert_exporter": "python",
   "pygments_lexer": "ipython3",
   "version": "3.10.15"
  }
 },
 "nbformat": 4,
 "nbformat_minor": 2
}
