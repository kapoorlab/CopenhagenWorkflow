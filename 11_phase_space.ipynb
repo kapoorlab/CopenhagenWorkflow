{
 "cells": [
  {
   "cell_type": "code",
   "execution_count": 29,
   "metadata": {},
   "outputs": [],
   "source": [
    "import os\n",
    "import torch\n",
    "import pandas as pd\n",
    "from pathlib import Path\n",
    "import numpy as np\n",
    "import matplotlib\n",
    "from itertools import combinations\n",
    "from napatrackmater.Trackvector import (\n",
    "    BROWNIAN_FEATURES\n",
    ")\n",
    "import matplotlib.pyplot as plt\n",
    "import seaborn as sns"
   ]
  },
  {
   "cell_type": "code",
   "execution_count": 5,
   "metadata": {},
   "outputs": [
    {
     "name": "stdout",
     "output_type": "stream",
     "text": [
      "reading data from /home/debian/jz/Mari_Data_Oneat/Mari_Sixth_Dataset_Analysis/nuclei_membrane_tracking/dataframes/goblet_basal_dataframe_normalized_nuclei_.csv\n"
     ]
    }
   ],
   "source": [
    "dataset_name = 'Sixth'\n",
    "home_folder = '/home/debian/jz/'\n",
    "channel = 'nuclei_'\n",
    "tracking_directory = f'{home_folder}Mari_Data_Oneat/Mari_{dataset_name}_Dataset_Analysis/nuclei_membrane_tracking/'\n",
    "data_frames_dir = os.path.join(tracking_directory, f'dataframes/')\n",
    "\n",
    "device = 'cuda' if torch.cuda.is_available() else 'cpu'\n",
    "tracklet_length = 25\n",
    "normalized_dataframe = os.path.join(data_frames_dir , f'goblet_basal_dataframe_normalized_{channel}.csv')\n",
    "print(f'reading data from {normalized_dataframe}')\n",
    "tracks_dataframe = pd.read_csv(normalized_dataframe)\n",
    "save_dir = os.path.join(tracking_directory, f'{channel}phasespaces')\n",
    "Path(save_dir).mkdir(exist_ok=True)\n",
    "deltat = 10\n",
    "class_map_gbr = {\n",
    "        0: \"Basal\",\n",
    "        1: \"Radial\",\n",
    "        2: \"Goblet\"\n",
    "    }"
   ]
  },
  {
   "cell_type": "code",
   "execution_count": 15,
   "metadata": {},
   "outputs": [],
   "source": [
    "\n",
    "all_trackmate_ids = [trackid for trackid in tracks_dataframe['TrackMate Track ID'].unique()]\n",
    "result_dict = {cell_type: {} for cell_type in class_map_gbr.values()}\n",
    "unique_time_points = tracks_dataframe['t'].unique()\n",
    "\n",
    "for time_point in unique_time_points:\n",
    "    time_data = tracks_dataframe[tracks_dataframe['t'] == time_point]\n",
    "\n",
    "    for cell_type in class_map_gbr.values():\n",
    "        cell_type_data = time_data[time_data['Cell_Type'] == cell_type]\n",
    "#\n",
    "        if not cell_type_data.empty:\n",
    "            if time_point not in result_dict[cell_type]:\n",
    "                result_dict[cell_type][time_point] = {}\n",
    "\n",
    "            for track_id in cell_type_data['Track ID'].unique():\n",
    "                track_features = cell_type_data[cell_type_data['Track ID'] == track_id][BROWNIAN_FEATURES].to_numpy()\n",
    "\n",
    "                feature_pairs = list(combinations(BROWNIAN_FEATURES, 2))\n",
    "\n",
    "                for (feature_name1, feature_name2) in feature_pairs:\n",
    "                    pair_key = f\"{feature_name1}_vs_{feature_name2}\"\n",
    "\n",
    "                    pairwise_values = np.stack(\n",
    "                        [track_features[:, BROWNIAN_FEATURES.index(feature_name1)],\n",
    "                         track_features[:, BROWNIAN_FEATURES.index(feature_name2)]],\n",
    "                        axis=1\n",
    "                    )\n",
    "\n",
    "                    if pair_key not in result_dict[cell_type][time_point]:\n",
    "                        result_dict[cell_type][time_point][pair_key] = []\n",
    "\n",
    "                    result_dict[cell_type][time_point][pair_key].append(pairwise_values)\n"
   ]
  },
  {
   "cell_type": "code",
   "execution_count": 38,
   "metadata": {},
   "outputs": [],
   "source": [
    "def build_dataframe(result_dict):\n",
    "    \"\"\"Converts result_dict to a pandas DataFrame for plotting.\"\"\"\n",
    "    rows = []\n",
    "\n",
    "    for cell_type, time_data in result_dict.items():\n",
    "        for time_point, feature_dict in time_data.items():\n",
    "            for feature_pair, data_lists in feature_dict.items():\n",
    "                for pairwise_array in data_lists:\n",
    "                    for feature1, feature2 in pairwise_array:\n",
    "                        feature_name1, feature_name2 = feature_pair.split('_vs_')\n",
    "                        rows.append({\n",
    "                            'Cell Type': cell_type,\n",
    "                            'Time Point': time_point,\n",
    "                            'Feature Pair': feature_pair,\n",
    "                            feature_name1: feature1,\n",
    "                            feature_name2: feature2,\n",
    "                        })\n",
    "\n",
    "    df = pd.DataFrame(rows)\n",
    "    return df\n",
    "\n",
    "\n",
    "\n",
    "\n",
    "\n",
    "def plot_phasespace(df, title='phasespace'):\n",
    "    \"\"\"Plots the phase space using seaborn's kdeplot for all time points in one plot per feature pair, with a color bar.\"\"\"\n",
    "    \n",
    "    cmap = plt.cm.viridis\n",
    "    norm = matplotlib.colors.Normalize(vmin=df['Time Point'].min(), vmax=df['Time Point'].max())\n",
    "\n",
    "    for cell_type in df['Cell Type'].unique():\n",
    "        cell_type_df = df[df['Cell Type'] == cell_type]\n",
    "        \n",
    "        for feature_pair in cell_type_df['Feature Pair'].unique():\n",
    "            pair_df = cell_type_df[cell_type_df['Feature Pair'] == feature_pair]\n",
    "            print(f\"Plotting for {cell_type} and feature pair {feature_pair}\")\n",
    "\n",
    "            actual_feature_name1, actual_feature_name2 = feature_pair.split('_vs_')\n",
    "\n",
    "            fig, ax = plt.subplots(figsize=(8, 10))\n",
    "\n",
    "            for time_point in sorted(pair_df['Time Point'].unique()):\n",
    "                time_df = pair_df[pair_df['Time Point'] == time_point]\n",
    "                \n",
    "                color = cmap(norm(time_point))\n",
    "\n",
    "                sns.kdeplot(\n",
    "                    data=time_df,\n",
    "                    x=actual_feature_name1,\n",
    "                    y=actual_feature_name2,\n",
    "                    label=f\"Time {time_point}\",\n",
    "                    alpha=0.5,\n",
    "                    ax=ax,\n",
    "                    color=color\n",
    "                )\n",
    "\n",
    "            ax.set_xlabel(f\"{actual_feature_name1}\", fontsize=14)\n",
    "            ax.set_ylabel(f\"{actual_feature_name2}\", fontsize=14)\n",
    "\n",
    "            sm = plt.cm.ScalarMappable(cmap=cmap, norm=norm)\n",
    "            sm.set_array([]) \n",
    "            cbar = fig.colorbar(sm, ax=ax, orientation='vertical')\n",
    "            cbar.set_label('Time Point', fontsize=14)\n",
    "\n",
    "            ax.set_title(f\"{title} - {cell_type}\", fontsize=16)\n",
    "            ax.legend(title=\"Time Points\", loc=\"upper right\", fontsize=10)\n",
    "\n",
    "            plot_filename = os.path.join(save_dir, f\"{title}_{cell_type}_{actual_feature_name1}_{actual_feature_name2}_{dataset_name}_phasespace.png\")\n",
    "            plt.savefig(plot_filename, dpi=300, bbox_inches='tight')\n",
    "            plt.show()\n",
    "\n",
    "\n",
    "\n",
    "            \n"
   ]
  },
  {
   "cell_type": "code",
   "execution_count": 17,
   "metadata": {},
   "outputs": [],
   "source": [
    "feature_dataframe = build_dataframe(result_dict)\n"
   ]
  },
  {
   "cell_type": "code",
   "execution_count": 39,
   "metadata": {},
   "outputs": [
    {
     "name": "stdout",
     "output_type": "stream",
     "text": [
      "Plotting for Basal and feature pair Radius_vs_Eccentricity_Comp_First\n"
     ]
    }
   ],
   "source": [
    "\n",
    "plot_phasespace(feature_dataframe)"
   ]
  },
  {
   "cell_type": "code",
   "execution_count": null,
   "metadata": {},
   "outputs": [],
   "source": []
  }
 ],
 "metadata": {
  "kernelspec": {
   "display_name": "capedenv",
   "language": "python",
   "name": "python3"
  },
  "language_info": {
   "codemirror_mode": {
    "name": "ipython",
    "version": 3
   },
   "file_extension": ".py",
   "mimetype": "text/x-python",
   "name": "python",
   "nbconvert_exporter": "python",
   "pygments_lexer": "ipython3",
   "version": "3.10.15"
  }
 },
 "nbformat": 4,
 "nbformat_minor": 2
}
