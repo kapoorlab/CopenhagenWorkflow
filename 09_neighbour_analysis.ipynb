{
 "cells": [
  {
   "cell_type": "code",
   "execution_count": 1,
   "metadata": {},
   "outputs": [
    {
     "name": "stderr",
     "output_type": "stream",
     "text": [
      "/home/debian/miniconda3/envs/kapoorlabsenv/lib/python3.10/site-packages/kornia/feature/lightglue.py:44: FutureWarning: `torch.cuda.amp.custom_fwd(args...)` is deprecated. Please use `torch.amp.custom_fwd(args..., device_type='cuda')` instead.\n",
      "  @torch.cuda.amp.custom_fwd(cast_inputs=torch.float32)\n",
      "2024-09-03 15:53:26.860065: E external/local_xla/xla/stream_executor/cuda/cuda_fft.cc:485] Unable to register cuFFT factory: Attempting to register factory for plugin cuFFT when one has already been registered\n",
      "2024-09-03 15:53:26.889916: E external/local_xla/xla/stream_executor/cuda/cuda_dnn.cc:8454] Unable to register cuDNN factory: Attempting to register factory for plugin cuDNN when one has already been registered\n",
      "2024-09-03 15:53:26.904702: E external/local_xla/xla/stream_executor/cuda/cuda_blas.cc:1452] Unable to register cuBLAS factory: Attempting to register factory for plugin cuBLAS when one has already been registered\n",
      "2024-09-03 15:53:26.930126: I tensorflow/core/platform/cpu_feature_guard.cc:210] This TensorFlow binary is optimized to use available CPU instructions in performance-critical operations.\n",
      "To enable the following instructions: AVX2 FMA, in other operations, rebuild TensorFlow with the appropriate compiler flags.\n",
      "2024-09-03 15:53:28.272167: W tensorflow/compiler/tf2tensorrt/utils/py_utils.cc:38] TF-TRT Warning: Could not find TensorRT\n"
     ]
    }
   ],
   "source": [
    "# %%\n",
    "from pathlib import Path \n",
    "import os\n",
    "import numpy as np\n",
    "import pandas as pd\n",
    "from tqdm import tqdm\n",
    "import matplotlib.pyplot as plt\n",
    "from collections import Counter\n",
    "from napatrackmater.Trackvector import (TrackVector,\n",
    "                                        SHAPE_FEATURES, \n",
    "                                        DYNAMIC_FEATURES, \n",
    "                                        SHAPE_DYNAMIC_FEATURES,\n",
    "                                        \n",
    "                                        )"
   ]
  },
  {
   "cell_type": "code",
   "execution_count": 76,
   "metadata": {},
   "outputs": [],
   "source": [
    "dataset_name = 'Second'\n",
    "home_folder = '/home/debian/jz/'\n",
    "timelapse_to_track = f'timelapse_{dataset_name.lower()}_dataset'\n",
    "tracking_directory = f'{home_folder}Mari_Data_Oneat/Mari_{dataset_name}_Dataset_Analysis/nuclei_membrane_tracking/'\n",
    "channel = 'nuclei_'\n",
    "data_frames_dir = os.path.join(tracking_directory, f'dataframes/')\n",
    "master_xml_name = 'master_' + 'marching_cubes_filled_' + channel + timelapse_to_track + \".xml\"\n",
    "xml_path = Path(os.path.join(tracking_directory, master_xml_name))\n",
    "\n",
    "goblet_basal_radial_dataframe = os.path.join(data_frames_dir , f'goblet_basal_dataframe_normalized_{channel}.csv')\n",
    "\n",
    "save_dir = os.path.join(tracking_directory, f'neighbour_plots/')\n",
    "Path(save_dir).mkdir(exist_ok=True, parents=True)\n",
    "\n",
    "shape_cols = SHAPE_FEATURES\n",
    "dynamic_cols = DYNAMIC_FEATURES\n",
    "feature_cols = SHAPE_DYNAMIC_FEATURES\n",
    "\n",
    "neighbour_radius_xy = 30 #pixels\n",
    "neighbour_radius_z = 5\n"
   ]
  },
  {
   "cell_type": "code",
   "execution_count": 47,
   "metadata": {},
   "outputs": [
    {
     "name": "stdout",
     "output_type": "stream",
     "text": [
      "Reading Master XML\n"
     ]
    }
   ],
   "source": [
    "track_vectors = TrackVector(master_xml_path=xml_path)\n",
    "track_vectors.t_minus = 0\n",
    "track_vectors.t_plus = track_vectors.tend\n",
    "track_vectors.y_start = 0\n",
    "track_vectors.y_end = track_vectors.ymax\n",
    "track_vectors.x_start = 0\n",
    "track_vectors.x_end = track_vectors.xmax\n",
    "\n",
    "tracks_goblet_basal_radial_dataframe = pd.read_csv(goblet_basal_radial_dataframe)"
   ]
  },
  {
   "cell_type": "code",
   "execution_count": 48,
   "metadata": {},
   "outputs": [],
   "source": [
    "neighbour_dataframe = tracks_goblet_basal_radial_dataframe[~tracks_goblet_basal_radial_dataframe['Cell_Type'].isna()]"
   ]
  },
  {
   "cell_type": "code",
   "execution_count": 49,
   "metadata": {},
   "outputs": [],
   "source": [
    "\n",
    "\n",
    "\n",
    "def find_neighbors_within_radius(df, radius_xy, height_z):\n",
    "            neighbors_dict = {}\n",
    "            unique_track_ids = df['Track ID'].unique()\n",
    "            unique_time_points = df['t'].unique()\n",
    "            \n",
    "            for track_id in tqdm(unique_track_ids):\n",
    "                neighbors_dict[track_id] = {}\n",
    "                \n",
    "                for time_point in unique_time_points:\n",
    "                    # Get the current track's coordinates\n",
    "                    current_track = df[(df['Track ID'] == track_id) & (df['t'] == time_point)]\n",
    "                    if current_track.empty:\n",
    "                        continue\n",
    "                    \n",
    "                    current_coords = current_track.iloc[0][['z', 'y', 'x']].values \n",
    "                    \n",
    "                    # Filter DataFrame for the current time point\n",
    "                    time_filtered_df = df[df['t'] == time_point]\n",
    "                    \n",
    "                    # Compute distances using vectorized operations\n",
    "                    distances_xy = np.sqrt((time_filtered_df['y'] - current_coords[1])**2 + \n",
    "                                        (time_filtered_df['x'] - current_coords[2])**2)\n",
    "                    distances_z = np.abs(time_filtered_df['z'] - current_coords[0])\n",
    "                    \n",
    "                    # Apply boolean masks to filter valid indices\n",
    "                    within_radius_xy = distances_xy <= radius_xy\n",
    "                    within_height_z = distances_z <= height_z\n",
    "                    valid_indices = within_radius_xy & within_height_z\n",
    "                    \n",
    "                    # Get valid track IDs, excluding the current track ID\n",
    "                    valid_track_ids = time_filtered_df[valid_indices]['Track ID'].unique()\n",
    "                    valid_track_ids = valid_track_ids[valid_track_ids != track_id]\n",
    "                    \n",
    "                    # Get neighbor cell types\n",
    "                    neighbor_cell_types = time_filtered_df[time_filtered_df['Track ID'].isin(valid_track_ids)]['Cell_Type'].tolist()\n",
    "                    neighbors_dict[track_id][time_point] = neighbor_cell_types\n",
    "            \n",
    "            return neighbors_dict"
   ]
  },
  {
   "cell_type": "code",
   "execution_count": 77,
   "metadata": {},
   "outputs": [
    {
     "name": "stderr",
     "output_type": "stream",
     "text": [
      "100%|██████████| 606/606 [05:16<00:00,  1.91it/s]\n"
     ]
    }
   ],
   "source": [
    "neighbors_dict = find_neighbors_within_radius(neighbour_dataframe, neighbour_radius_xy, neighbour_radius_z)"
   ]
  },
  {
   "cell_type": "code",
   "execution_count": 84,
   "metadata": {},
   "outputs": [],
   "source": [
    "color_palette = {\n",
    "    'Basal': '#1f77b4',  \n",
    "    'Radial': '#ff7f0e',\n",
    "    'Goblet': '#2ca02c',\n",
    "}\n",
    "\n",
    "def plot_for_all_timepoints(df, neighbors_dict, window_size=10):\n",
    "    timepoints = sorted(df['t'].unique())\n",
    "    all_cell_type_types = {cell_type: {tp: Counter() for tp in timepoints} for cell_type in df['Cell_Type'].unique()}\n",
    "    cell_type_totals = {cell_type: {tp: 0 for tp in timepoints} for cell_type in df['Cell_Type'].unique()}\n",
    "\n",
    "    # Calculate neighbor counts and total counts\n",
    "    for time_point in timepoints:\n",
    "        time_filtered_df = df[df['t'] == time_point]\n",
    "        total_counts = time_filtered_df['Cell_Type'].value_counts().to_dict()\n",
    "        for track_id in time_filtered_df['Track ID'].unique():\n",
    "            track_data = time_filtered_df[time_filtered_df['Track ID'] == track_id].iloc[0]\n",
    "            current_cell_type = track_data['Cell_Type']\n",
    "            neighbors = neighbors_dict.get(track_id, {}).get(time_point, [])\n",
    "            neighbor_counts = Counter(neighbors)\n",
    "\n",
    "            if current_cell_type in all_cell_type_types:\n",
    "                all_cell_type_types[current_cell_type][time_point] += neighbor_counts\n",
    "                cell_type_totals[current_cell_type][time_point] = total_counts.get(current_cell_type, 0)\n",
    "\n",
    "    # Normalize neighbor counts\n",
    "    normalized_cell_type_types = {}\n",
    "    for cell_type in all_cell_type_types:\n",
    "        normalized_cell_type_types[cell_type] = {}\n",
    "        for time_point in all_cell_type_types[cell_type]:\n",
    "            total_count = cell_type_totals[cell_type][time_point]\n",
    "            if total_count > 0:\n",
    "                normalized_counts = {k: v / total_count for k, v in all_cell_type_types[cell_type][time_point].items()}\n",
    "            else:\n",
    "                normalized_counts = all_cell_type_types[cell_type][time_point]\n",
    "            normalized_cell_type_types[cell_type][time_point] = normalized_counts\n",
    "\n",
    "    # Apply rolling window average\n",
    "    smoothed_cell_type_types = {}\n",
    "    for cell_type in normalized_cell_type_types:\n",
    "        smoothed_cell_type_types[cell_type] = {}\n",
    "        for neighbor in sorted(set(neigh for counts in normalized_cell_type_types[cell_type].values() for neigh in counts)):\n",
    "            y_values = [normalized_cell_type_types[cell_type].get(tp, {}).get(neighbor, 0) for tp in timepoints]\n",
    "            y_smoothed = pd.Series(y_values).rolling(window=window_size, min_periods=1).mean().tolist()\n",
    "            smoothed_cell_type_types[cell_type] = smoothed_cell_type_types.get(cell_type, {})\n",
    "            smoothed_cell_type_types[cell_type][neighbor] = y_smoothed\n",
    "\n",
    "    # Plotting\n",
    "    fig, axs = plt.subplots(len(normalized_cell_type_types), 1, figsize=(16, len(normalized_cell_type_types) * 6))\n",
    "    if len(normalized_cell_type_types) == 1:\n",
    "        axs = [axs]\n",
    "\n",
    "    for idx, cell_type in enumerate(smoothed_cell_type_types):\n",
    "        ax = axs[idx]\n",
    "        neighbor_types = sorted(smoothed_cell_type_types[cell_type].keys())\n",
    "\n",
    "        for neighbor in neighbor_types:\n",
    "            y_values = smoothed_cell_type_types[cell_type][neighbor]\n",
    "            ax.plot(timepoints, y_values, label=f'{neighbor}', color=color_palette.get(neighbor, 'grey'), marker='o')\n",
    "\n",
    "        ax.set_title(f'Rolling Average of Neighbor Counts for Cell Type: {cell_type}')\n",
    "        ax.set_xlabel('Timepoint')\n",
    "        ax.set_ylabel('Normalized Count (Rolling Average)')\n",
    "        ax.legend(loc='upper right')\n",
    "        ax.grid(True)\n",
    "\n",
    "    plt.tight_layout()\n",
    "    fig.savefig(os.path.join(save_dir, f'radius_{neighbour_radius_xy}_{neighbour_radius_z}_rolling_avg_neighbor_counts.png'))\n",
    "    plt.show()\n",
    "\n"
   ]
  },
  {
   "cell_type": "code",
   "execution_count": 85,
   "metadata": {},
   "outputs": [],
   "source": [
    "plot_for_all_timepoints(neighbour_dataframe, neighbors_dict)"
   ]
  },
  {
   "cell_type": "code",
   "execution_count": null,
   "metadata": {},
   "outputs": [],
   "source": []
  }
 ],
 "metadata": {
  "kernelspec": {
   "display_name": "kapoorlabsenv",
   "language": "python",
   "name": "python3"
  },
  "language_info": {
   "codemirror_mode": {
    "name": "ipython",
    "version": 3
   },
   "file_extension": ".py",
   "mimetype": "text/x-python",
   "name": "python",
   "nbconvert_exporter": "python",
   "pygments_lexer": "ipython3",
   "version": "3.10.14"
  }
 },
 "nbformat": 4,
 "nbformat_minor": 2
}
