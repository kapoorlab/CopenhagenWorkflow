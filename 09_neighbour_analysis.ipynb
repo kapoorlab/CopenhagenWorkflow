{
 "cells": [
  {
   "cell_type": "code",
   "execution_count": 1,
   "metadata": {},
   "outputs": [
    {
     "name": "stderr",
     "output_type": "stream",
     "text": [
      "/home/debian/miniconda3/envs/kapoorlabsenv/lib/python3.10/site-packages/kornia/feature/lightglue.py:44: FutureWarning: `torch.cuda.amp.custom_fwd(args...)` is deprecated. Please use `torch.amp.custom_fwd(args..., device_type='cuda')` instead.\n",
      "  @torch.cuda.amp.custom_fwd(cast_inputs=torch.float32)\n"
     ]
    }
   ],
   "source": [
    "# %%\n",
    "from pathlib import Path \n",
    "import os\n",
    "import numpy as np\n",
    "import pandas as pd\n",
    "import matplotlib.pyplot as plt\n",
    "from collections import Counter\n",
    "from napatrackmater.Trackvector import (TrackVector,\n",
    "                                        SHAPE_FEATURES, \n",
    "                                        DYNAMIC_FEATURES, \n",
    "                                        SHAPE_DYNAMIC_FEATURES,\n",
    "                                        \n",
    "                                        )"
   ]
  },
  {
   "cell_type": "code",
   "execution_count": null,
   "metadata": {},
   "outputs": [],
   "source": [
    "dataset_name = 'Second'\n",
    "home_folder = '/home/debian/jz/'\n",
    "timelapse_to_track = f'timelapse_{dataset_name.lower()}_dataset'\n",
    "tracking_directory = f'{home_folder}Mari_Data_Oneat/Mari_{dataset_name}_Dataset_Analysis/nuclei_membrane_tracking/'\n",
    "channel = 'nuclei_'\n",
    "data_frames_dir = os.path.join(tracking_directory, f'dataframes/')\n",
    "master_xml_name = 'master_' + 'marching_cubes_filled_' + channel + timelapse_to_track + \".xml\"\n",
    "xml_path = Path(os.path.join(tracking_directory, master_xml_name))\n",
    "\n",
    "goblet_basal_radial_dataframe = os.path.join(data_frames_dir , f'goblet_basal_dataframe_normalized_{channel}.csv')\n",
    "\n",
    "save_dir = os.path.join(tracking_directory, f'neighbour_plots_predicted/')\n",
    "Path(save_dir).mkdir(exist_ok=True, parents=True)\n",
    "\n",
    "shape_cols = SHAPE_FEATURES\n",
    "dynamic_cols = DYNAMIC_FEATURES\n",
    "feature_cols = SHAPE_DYNAMIC_FEATURES\n",
    "\n",
    "neighbour_radius = 70 #pixels\n"
   ]
  },
  {
   "cell_type": "code",
   "execution_count": null,
   "metadata": {},
   "outputs": [],
   "source": [
    "track_vectors = TrackVector(master_xml_path=xml_path)\n",
    "track_vectors.t_minus = 0\n",
    "track_vectors.t_plus = track_vectors.tend\n",
    "track_vectors.y_start = 0\n",
    "track_vectors.y_end = track_vectors.ymax\n",
    "track_vectors.x_start = 0\n",
    "track_vectors.x_end = track_vectors.xmax\n",
    "\n",
    "tracks_goblet_basal_radial_dataframe = pd.read_csv(goblet_basal_radial_dataframe)"
   ]
  },
  {
   "cell_type": "code",
   "execution_count": null,
   "metadata": {},
   "outputs": [],
   "source": [
    "neighbour_dataframe = tracks_goblet_basal_radial_dataframe[~tracks_goblet_basal_radial_dataframe['Cell_Type'].isna()]"
   ]
  },
  {
   "cell_type": "code",
   "execution_count": null,
   "metadata": {},
   "outputs": [],
   "source": [
    "\n",
    "\n",
    "def find_neighbors_within_radius(df, R):\n",
    "    neighbors_dict = {}\n",
    "    unique_track_ids = df['Track ID'].unique()\n",
    "    unique_time_points = df['t'].unique()\n",
    "    for track_id in unique_track_ids:\n",
    "        neighbors_dict[track_id] = {}\n",
    "        \n",
    "        for time_point in unique_time_points:\n",
    "            current_tracks = df[(df['Track ID'] == track_id) & (df['t'] == time_point)]\n",
    "            \n",
    "            if not current_tracks.empty:\n",
    "                current_track = current_tracks.iloc[0]\n",
    "                current_coords = np.array([current_track['z'], current_track['y'], current_track['x']])\n",
    "                \n",
    "                time_filtered_df = df[df['t'] == time_point]\n",
    "                distances = np.sqrt((time_filtered_df['z'] - current_coords[0])**2 + \n",
    "                                    (time_filtered_df['y'] - current_coords[1])**2 + \n",
    "                                    (time_filtered_df['x'] - current_coords[2])**2)\n",
    "                \n",
    "                neighbor_indices = time_filtered_df[distances <= R].index\n",
    "                neighbor_indices = [idx for idx in neighbor_indices if df.loc[idx, 'Track ID'] != track_id]\n",
    "\n",
    "                neighbor_cell_types = time_filtered_df.loc[neighbor_indices, 'Cell_Type'].tolist()\n",
    "                neighbors_dict[track_id][time_point] = neighbor_cell_types\n",
    "    \n",
    "    return neighbors_dict"
   ]
  },
  {
   "cell_type": "code",
   "execution_count": null,
   "metadata": {},
   "outputs": [],
   "source": [
    "neighbors_dict = find_neighbors_within_radius(neighbour_dataframe, neighbour_radius)"
   ]
  },
  {
   "cell_type": "code",
   "execution_count": null,
   "metadata": {},
   "outputs": [],
   "source": [
    "\n",
    "color_palette = {\n",
    "    'Basal': '#1f77b4',  \n",
    "    'Radial': '#ff7f0e',\n",
    "    'Goblet': '#2ca02c',\n",
    "}\n",
    "def compute_for_timepoint(df,neighbors_dict, time_point):\n",
    "    time_filtered_df = df[df['t'] == time_point]\n",
    "    \n",
    "\n",
    "    all_cell_type_types = {}\n",
    "    for track_id in time_filtered_df['Track ID'].unique():\n",
    "        track_data = time_filtered_df[time_filtered_df['Track ID'] == track_id].iloc[0]\n",
    "        neighbors = neighbors_dict.get(track_id, {}).get(time_point, [])\n",
    "        current_cell_type = track_data['Cell_Type']\n",
    "        neighbor_counts = Counter(neighbors)\n",
    "        if current_cell_type in all_cell_type_types:\n",
    "           current_neighbour_counts = all_cell_type_types[current_cell_type] \n",
    "           neighbor_counts+=current_neighbour_counts\n",
    "           all_cell_type_types[current_cell_type] = neighbor_counts\n",
    "        else:\n",
    "           all_cell_type_types[current_cell_type] = neighbor_counts    \n",
    "    print(all_cell_type_types)   \n",
    "    for cell_type, counts in all_cell_type_types.items():\n",
    "        if counts:\n",
    "            max_count = max(counts.values())\n",
    "            for neighbor in counts:\n",
    "                counts[neighbor] /= max_count    \n",
    "    \n",
    "    return all_cell_type_types\n",
    "\n",
    "  \n",
    "    "
   ]
  },
  {
   "cell_type": "code",
   "execution_count": null,
   "metadata": {},
   "outputs": [],
   "source": [
    "all_cell_type_types = compute_for_timepoint(neighbour_dataframe, neighbors_dict, 100)\n",
    "all_cell_type_types"
   ]
  },
  {
   "cell_type": "code",
   "execution_count": null,
   "metadata": {},
   "outputs": [],
   "source": [
    "def plot_for_all_timepoints(df, neighbors_dict):\n",
    "    timepoints = sorted(df['t'].unique())\n",
    "    all_cell_type_types = {cell_type: {tp: Counter() for tp in timepoints} for cell_type in df['Cell_Type'].unique()}\n",
    "\n",
    "    \n",
    "    for time_point in timepoints:\n",
    "        time_filtered_df = df[df['t'] == time_point]\n",
    "\n",
    "        for track_id in time_filtered_df['Track ID'].unique():\n",
    "            track_data = time_filtered_df[time_filtered_df['Track ID'] == track_id].iloc[0]\n",
    "            current_cell_type = track_data['Cell_Type']\n",
    "            neighbors = neighbors_dict.get(track_id, {}).get(time_point, [])\n",
    "            neighbor_counts = Counter(neighbors)\n",
    "\n",
    "            if current_cell_type in all_cell_type_types:\n",
    "                all_cell_type_types[current_cell_type][time_point] += neighbor_counts\n",
    "        \n",
    "        for cell_type, timepoint_data in all_cell_type_types.items():\n",
    "            for time_point, counts in timepoint_data.items():\n",
    "                if counts:\n",
    "                    max_count = max(counts.values(), default=0)  \n",
    "                    if max_count > 0:\n",
    "                        for neighbor in counts:\n",
    "                            counts[neighbor] /= max_count\n",
    "                \n",
    "        \n",
    "    \n",
    "    fig, axs = plt.subplots(len(all_cell_type_types), 1, figsize=(16, len(all_cell_type_types) * 6))\n",
    "    \n",
    "    if len(all_cell_type_types) == 1:\n",
    "        axs = [axs] \n",
    "\n",
    "   \n",
    "    for idx, cell_type in enumerate(all_cell_type_types):\n",
    "        ax = axs[idx]\n",
    "        neighbor_types = sorted(set(neigh for counts in all_cell_type_types[cell_type].values() for neigh in counts))\n",
    "        \n",
    "        for neighbor in neighbor_types:\n",
    "            y_values = [all_cell_type_types[cell_type][tp].get(neighbor, 0) for tp in timepoints]\n",
    "            ax.plot(timepoints, y_values, label=f'{neighbor}', color=color_palette.get(neighbor, 'grey'), marker='o')\n",
    "\n",
    "        ax.set_title(f'Neighbor Counts for Cell Type: {cell_type}')\n",
    "        ax.set_xlabel('Timepoint')\n",
    "        ax.set_ylabel('Count')\n",
    "        ax.legend(loc='upper right')\n",
    "        ax.grid(True)\n",
    "    fig.savefig(os.path.join(save_dir, f'radius_{neighbour_radius}_neighbor_counts.png'))\n",
    "    plt.tight_layout()\n",
    "    plt.show()"
   ]
  },
  {
   "cell_type": "code",
   "execution_count": null,
   "metadata": {},
   "outputs": [],
   "source": [
    "plot_for_all_timepoints(neighbour_dataframe, neighbors_dict)"
   ]
  },
  {
   "cell_type": "code",
   "execution_count": null,
   "metadata": {},
   "outputs": [],
   "source": []
  }
 ],
 "metadata": {
  "kernelspec": {
   "display_name": "kapoorlabsenv",
   "language": "python",
   "name": "python3"
  },
  "language_info": {
   "codemirror_mode": {
    "name": "ipython",
    "version": 3
   },
   "file_extension": ".py",
   "mimetype": "text/x-python",
   "name": "python",
   "nbconvert_exporter": "python",
   "pygments_lexer": "ipython3",
   "version": "3.10.14"
  }
 },
 "nbformat": 4,
 "nbformat_minor": 2
}
