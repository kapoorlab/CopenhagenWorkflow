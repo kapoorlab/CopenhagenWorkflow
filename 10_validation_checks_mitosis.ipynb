{
 "cells": [
  {
   "cell_type": "code",
   "execution_count": 1,
   "metadata": {},
   "outputs": [
    {
     "name": "stderr",
     "output_type": "stream",
     "text": [
      "/home/debian/miniconda3/envs/kapoorlabsenv/lib/python3.10/site-packages/pyntcloud/utils/numba.py:5: NumbaDeprecationWarning: \u001b[1mThe 'nopython' keyword argument was not supplied to the 'numba.jit' decorator. The implicit default value for this argument is currently False, but it will be changed to True in Numba 0.59.0. See https://numba.readthedocs.io/en/stable/reference/deprecation.html#deprecation-of-object-mode-fall-back-behaviour-when-using-jit for details.\u001b[0m\n",
      "  def groupby_count(xyz, indices, out):\n",
      "/home/debian/miniconda3/envs/kapoorlabsenv/lib/python3.10/site-packages/pyntcloud/utils/numba.py:12: NumbaDeprecationWarning: \u001b[1mThe 'nopython' keyword argument was not supplied to the 'numba.jit' decorator. The implicit default value for this argument is currently False, but it will be changed to True in Numba 0.59.0. See https://numba.readthedocs.io/en/stable/reference/deprecation.html#deprecation-of-object-mode-fall-back-behaviour-when-using-jit for details.\u001b[0m\n",
      "  def groupby_sum(xyz, indices, N, out):\n",
      "/home/debian/miniconda3/envs/kapoorlabsenv/lib/python3.10/site-packages/pyntcloud/utils/numba.py:19: NumbaDeprecationWarning: \u001b[1mThe 'nopython' keyword argument was not supplied to the 'numba.jit' decorator. The implicit default value for this argument is currently False, but it will be changed to True in Numba 0.59.0. See https://numba.readthedocs.io/en/stable/reference/deprecation.html#deprecation-of-object-mode-fall-back-behaviour-when-using-jit for details.\u001b[0m\n",
      "  def groupby_max(xyz, indices, N, out):\n",
      "2024-07-22 13:17:49.927671: I tensorflow/tsl/cuda/cudart_stub.cc:28] Could not find cuda drivers on your machine, GPU will not be used.\n",
      "2024-07-22 13:17:50.048260: I tensorflow/core/platform/cpu_feature_guard.cc:182] This TensorFlow binary is optimized to use available CPU instructions in performance-critical operations.\n",
      "To enable the following instructions: AVX2 FMA, in other operations, rebuild TensorFlow with the appropriate compiler flags.\n",
      "2024-07-22 13:17:52.318688: W tensorflow/compiler/tf2tensorrt/utils/py_utils.cc:38] TF-TRT Warning: Could not find TensorRT\n"
     ]
    }
   ],
   "source": [
    "import numpy as np\n",
    "import os\n",
    "import os\n",
    "import torch\n",
    "from torch.utils.data import DataLoader, Dataset\n",
    "from torch.nn.modules.loss import CrossEntropyLoss\n",
    "from kapoorlabs_lightning.optimizers import Adam\n",
    "\n",
    "from kapoorlabs_lightning.pytorch_models import DenseNet\n",
    "from kapoorlabs_lightning.lightning_trainer import LightningModel\n",
    "from napatrackmater.Trackvector import (\n",
    "    SHAPE_FEATURES,\n",
    "    DYNAMIC_FEATURES\n",
    ")\n",
    "from sklearn.metrics import confusion_matrix\n",
    "import matplotlib.pyplot as plt\n",
    "import seaborn as sns\n"
   ]
  },
  {
   "cell_type": "code",
   "execution_count": 2,
   "metadata": {},
   "outputs": [
    {
     "ename": "",
     "evalue": "",
     "output_type": "error",
     "traceback": [
      "\u001b[1;31mThe Kernel crashed while executing code in the current cell or a previous cell. \n",
      "\u001b[1;31mPlease review the code in the cell(s) to identify a possible cause of the failure. \n",
      "\u001b[1;31mClick <a href='https://aka.ms/vscodeJupyterKernelCrash'>here</a> for more info. \n",
      "\u001b[1;31mView Jupyter <a href='command:jupyter.viewOutput'>log</a> for further details."
     ]
    }
   ],
   "source": [
    "home_folder = '/home/debian/jz/'\n",
    "base_dir = '/home/debian/jz/Mari_Data_Training/track_training_data/'\n",
    "\n",
    "\n",
    "dynamic_mitosis_npz_file = 'dynamic_training_data_mitosis.npz'\n",
    "shape_mitosis_npz_file = 'shape_training_data_mitosis.npz'\n",
    "\n",
    "shape_validation_data = np.load(os.path.join(base_dir, shape_mitosis_npz_file))\n",
    "dynamic_validation_data = np.load(os.path.join(base_dir, dynamic_mitosis_npz_file))\n",
    "\n",
    "val_shape_dividing_arrays = shape_validation_data[\"dividing_val_arrays\"]\n",
    "val_shape_dividing_labels = shape_validation_data[\"dividing_val_labels\"]\n",
    "val_shape_non_dividing_arrays = shape_validation_data[\"non_dividing_val_arrays\"]\n",
    "val_shape_non_dividing_labels = shape_validation_data[\"non_dividing_val_labels\"]\n",
    "\n",
    "val_dynamic_dividing_arrays = dynamic_validation_data[\"dividing_val_arrays\"]\n",
    "val_dynamic_dividing_labels = dynamic_validation_data[\"dividing_val_labels\"]\n",
    "val_dynamic_non_dividing_arrays = dynamic_validation_data[\"non_dividing_val_arrays\"]\n",
    "val_dynamic_non_dividing_labels = dynamic_validation_data[\"non_dividing_val_labels\"]"
   ]
  },
  {
   "cell_type": "code",
   "execution_count": null,
   "metadata": {},
   "outputs": [],
   "source": [
    "print(f'Mitosis {val_shape_dividing_arrays.shape}, Non-Mitosis {val_shape_non_dividing_arrays.shape}')"
   ]
  },
  {
   "cell_type": "code",
   "execution_count": null,
   "metadata": {},
   "outputs": [],
   "source": [
    "model_dir = f'{home_folder}Mari_Models/TrackModels/'\n",
    "gbr_shape_model_json = f'{model_dir}shape_feature_lightning_densenet_mitosis/shape_densenet.json'\n",
    "device = 'cpu'\n",
    "loss_func =  CrossEntropyLoss()\n",
    "gbr_shape_lightning_model, gbr_shape_torch_model = LightningModel.extract_mitosis_model(\n",
    "    DenseNet,\n",
    "    gbr_shape_model_json,\n",
    "    loss_func,\n",
    "    Adam,\n",
    "    map_location=torch.device(device),\n",
    "    local_model_path = os.path.join(model_dir, 'shape_feature_lightning_densenet_mitosis'),\n",
    "    \n",
    ")\n",
    "\n",
    "\n",
    "\n",
    "gbr_shape_torch_model.eval()"
   ]
  },
  {
   "cell_type": "code",
   "execution_count": null,
   "metadata": {},
   "outputs": [],
   "source": [
    "\n",
    "gbr_dynamic_model_json = f'{model_dir}dynamic_feature_lightning_densenet_mitosis/dynamic_densenet.json'\n",
    "\n",
    "gbr_dynamic_lightning_model, gbr_dynamic_torch_model = LightningModel.extract_mitosis_model(\n",
    "    DenseNet,\n",
    "    gbr_dynamic_model_json,\n",
    "    loss_func,\n",
    "    Adam,\n",
    "    map_location=torch.device(device),\n",
    "    local_model_path = os.path.join(model_dir, 'dynamic_feature_lightning_densenet_mitosis'),\n",
    "    \n",
    ")\n",
    "\n",
    "gbr_dynamic_torch_model.eval()"
   ]
  },
  {
   "cell_type": "code",
   "execution_count": null,
   "metadata": {},
   "outputs": [],
   "source": [
    "class_map_gbr = {\n",
    "    0: \"Non-Mitosis\",\n",
    "    1: \"Mitosis\"\n",
    "}\n",
    "\n",
    "class CustomDataset(Dataset):\n",
    "    def __init__(self, data, labels):\n",
    "        self.data = data\n",
    "        self.labels = labels\n",
    "\n",
    "    def __len__(self):\n",
    "        return len(self.data)\n",
    "\n",
    "    def __getitem__(self, idx):\n",
    "        sample = self.data[idx]\n",
    "        label = self.labels[idx]\n",
    "        return torch.tensor(sample).permute(1, 0).float(), label\n",
    "\n",
    "def make_predictions(model, data, labels, batch_size=32, subset_size=None):\n",
    "    if subset_size is not None:\n",
    "        indices = np.random.choice(len(data), size=subset_size, replace=False)\n",
    "        data = data[indices]\n",
    "        labels = labels[indices]\n",
    "    predictions = []\n",
    "    true_labels = []\n",
    "    \n",
    "    dataset = CustomDataset(data, labels)\n",
    "    dataloader = DataLoader(dataset, batch_size=batch_size, shuffle=False)\n",
    "    \n",
    "    model.eval()  \n",
    "    \n",
    "    with torch.no_grad():\n",
    "        for batch_data, batch_labels in dataloader:\n",
    "            batch_data = batch_data.to('cuda' if torch.cuda.is_available() else 'cpu')\n",
    "            batch_labels = batch_labels.to('cuda' if torch.cuda.is_available() else 'cpu')\n",
    "            \n",
    "            model_predictions = model(batch_data)\n",
    "            probabilities = torch.softmax(model_predictions, dim=1)\n",
    "            predicted_classes = torch.argmax(probabilities, dim=1)\n",
    "            \n",
    "            predictions.extend(predicted_classes.cpu().numpy())\n",
    "            true_labels.extend(batch_labels.cpu().numpy())\n",
    "    \n",
    "    return np.array(predictions), np.array(true_labels)\n"
   ]
  },
  {
   "cell_type": "code",
   "execution_count": null,
   "metadata": {},
   "outputs": [],
   "source": [
    "subset_size = 10000\n",
    "\n",
    "shape_dividing_preds, shape_dividing_labels = make_predictions(gbr_shape_torch_model, val_shape_dividing_arrays, val_shape_dividing_labels, batch_size=32, subset_size = subset_size)\n",
    "dynamic_dividing_preds, dynamic_dividing_labels = make_predictions(gbr_dynamic_torch_model, val_dynamic_dividing_arrays, val_dynamic_dividing_labels, batch_size=32, subset_size = subset_size)\n",
    "\n",
    "shape_non_dividing_preds, shape_non_dividing_labels = make_predictions(gbr_shape_torch_model, val_shape_non_dividing_arrays, val_shape_non_dividing_labels, batch_size=32, subset_size = subset_size)\n",
    "dynamic_non_dividing_preds, dynamic_non_dividing_labels = make_predictions(gbr_dynamic_torch_model, val_dynamic_non_dividing_arrays, val_dynamic_non_dividing_labels, batch_size=32, subset_size = subset_size)\n",
    "\n",
    "\n",
    "all_preds = np.concatenate([shape_dividing_preds, dynamic_dividing_preds, shape_non_dividing_preds, dynamic_non_dividing_preds])\n",
    "all_labels = np.concatenate([shape_dividing_labels, dynamic_dividing_labels, shape_non_dividing_labels, dynamic_non_dividing_labels])\n",
    "\n",
    "conf_matrix = confusion_matrix(all_labels, all_preds)\n",
    "print(conf_matrix)"
   ]
  },
  {
   "cell_type": "code",
   "execution_count": null,
   "metadata": {},
   "outputs": [],
   "source": [
    "def plot_confusion_matrix(true_labels, predictions, class_names):\n",
    "    conf_matrix = confusion_matrix(true_labels, predictions)\n",
    "    \n",
    "    plt.figure(figsize=(10, 7))\n",
    "    sns.heatmap(conf_matrix, annot=True, fmt='d', cmap='Blues', xticklabels=class_names, yticklabels=class_names)\n",
    "    plt.xlabel('Predicted Labels')\n",
    "    plt.ylabel('True Labels')\n",
    "    plt.title('Confusion Matrix')\n",
    "    plt.savefig('classification_metrics/confusion_matrix_cell_fate_mitosis,png', dpi=300)\n",
    "    plt.show()\n",
    "\n",
    "class_names = class_map_gbr.values()\n",
    "plot_confusion_matrix(all_labels, all_preds, class_names)"
   ]
  }
 ],
 "metadata": {
  "kernelspec": {
   "display_name": "kapoorlabsenv",
   "language": "python",
   "name": "python3"
  },
  "language_info": {
   "codemirror_mode": {
    "name": "ipython",
    "version": 3
   },
   "file_extension": ".py",
   "mimetype": "text/x-python",
   "name": "python",
   "nbconvert_exporter": "python",
   "pygments_lexer": "ipython3",
   "version": "3.10.13"
  }
 },
 "nbformat": 4,
 "nbformat_minor": 2
}
