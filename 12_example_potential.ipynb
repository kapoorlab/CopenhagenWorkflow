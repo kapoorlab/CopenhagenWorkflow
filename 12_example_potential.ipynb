{
 "cells": [
  {
   "cell_type": "code",
   "execution_count": 1,
   "metadata": {},
   "outputs": [],
   "source": [
    "import numpy as np\n",
    "import matplotlib.pyplot as plt\n",
    "from ipywidgets import interact, FloatText\n",
    "from IPython.display import clear_output\n",
    "import seaborn as sns\n",
    "from scipy.integrate import solve_ivp\n"
   ]
  },
  {
   "cell_type": "code",
   "execution_count": 4,
   "metadata": {},
   "outputs": [],
   "source": [
    "\n",
    "def harmonic_potential(x, k=1.0):\n",
    "    potential = 0.5 * k * x**2\n",
    "    force = -k * x\n",
    "    return potential, force\n",
    "\n",
    "def force_function(x, k, a):\n",
    "    force = -2 * k * x * (x**2 - a)\n",
    "    return force\n",
    "\n",
    "def double_force_potential_function(x, k, a):\n",
    "    potential = 0.5 * k * (x**2 - a)**2\n",
    "    return potential\n",
    "\n",
    "def dual_harmonic_potential(x, k=1.0, a = 1.0):\n",
    "    potential = double_force_potential_function(x,k,a)\n",
    "    force = force_function(x, k,a)\n",
    "    return potential, force\n",
    "\n",
    "def smoothed_positive_potential(x, k=1.0, a=1.0, b=0.01):\n",
    "    base_potential = 0.5 * k * (x**2 - a)**2\n",
    "    \n",
    "    # Gaussian peaks centered at ±sqrt(b)\n",
    "    gaussian_1 = k * np.exp(-(x - np.sqrt(a))**2 / (2 * b**2))\n",
    "    gaussian_2 = k * np.exp(-(x + np.sqrt(a))**2 / (2 * b**2))\n",
    "    \n",
    "    # Combined potential and force\n",
    "    potential = base_potential + gaussian_1 + gaussian_2\n",
    "\n",
    "    force_base = -2 * k * x * (x**2 - a)\n",
    "    force_g1 = k * (x - np.sqrt(a)) / b**2 * np.exp(-(x - np.sqrt(a))**2 / (2 * b**2))\n",
    "    force_g2 = k * (x + np.sqrt(a)) / b**2 * np.exp(-(x + np.sqrt(a))**2 / (2 * b**2))\n",
    "    force = force_base - force_g1 - force_g2\n",
    "    \n",
    "    return potential, force\n",
    "\n",
    "def simulate_motion(potential_func, params, x0=1.0, v0=0.0, t_min=0, t_max=36, dt=0.01):\n",
    "    def dynamics(t, y):\n",
    "        x, v = y\n",
    "        _, force = potential_func(x, **params)\n",
    "        return [v, force]\n",
    "\n",
    "    t_span = (t_min, t_max)\n",
    "    t_eval = np.arange(t_min, t_max, dt)\n",
    "    sol = solve_ivp(dynamics, t_span, [x0, v0], t_eval=t_eval)\n",
    "    return sol.t, sol.y[0], sol.y[1]\n",
    "\n",
    "\n",
    "\n",
    "def plot_potential_phase_space(potential_case=\"Harmonic\", k=1.0,a = 1.0, b=0.01):\n",
    "    clear_output(wait=True)\n",
    "    x = np.linspace(-50, 50, 500)\n",
    "    \n",
    "\n",
    "    if potential_case == \"Harmonic\":\n",
    "        potential, _ = harmonic_potential(x, k)\n",
    "        params = {'k': k}\n",
    "        potential_func = harmonic_potential\n",
    "    elif potential_case==\"Smooth Harmonic\":\n",
    "        potential, _ = smoothed_positive_potential(x, k, a, b)\n",
    "        params = {'k': k, 'a': a, 'b' : b}\n",
    "        potential_func = smoothed_positive_potential\n",
    "    elif potential_case== \"Dual Harmonic\":\n",
    "        potential, _ = dual_harmonic_potential(x, k, a)\n",
    "        params = {'k': k, 'a': a}\n",
    "        potential_func = dual_harmonic_potential    \n",
    "\n",
    "    t, x_vals, v_vals = simulate_motion(potential_func, params)\n",
    "\n",
    "    fig, ax = plt.subplots(1, 2, figsize=(12, 5))\n",
    "    \n",
    "    ax[0].plot(x, np.log(1 + potential), label=\"Potential\")\n",
    "    ax[0].set_xlabel(\"x\")\n",
    "    ax[0].set_ylabel(\"Potential\")\n",
    "    ax[0].set_xlim(-10,10)\n",
    "    ax[0].set_title(f\"{potential_case} Potential\")\n",
    "    ax[0].grid(True)\n",
    "    ax[0].legend()\n",
    "\n",
    "    sns.kdeplot(x=x_vals, y=v_vals,  cmap=\"viridis\", fill=True, ax=ax[1])\n",
    "    ax[1].set_xlabel(\"x\")\n",
    "    ax[1].set_ylabel(\"v\")\n",
    "    ax[1].set_title(\"Phase Space\")\n",
    "    ax[1].grid(True)\n",
    "    ax[1].legend()\n",
    "\n",
    "\n"
   ]
  },
  {
   "cell_type": "code",
   "execution_count": 5,
   "metadata": {},
   "outputs": [
    {
     "data": {
      "application/vnd.jupyter.widget-view+json": {
       "model_id": "80490b36c4e24148a55046b560273f8f",
       "version_major": 2,
       "version_minor": 0
      },
      "text/plain": [
       "interactive(children=(Dropdown(description='potential_case', options=('Harmonic', 'Dual Harmonic', 'Smooth Har…"
      ]
     },
     "metadata": {},
     "output_type": "display_data"
    },
    {
     "data": {
      "text/plain": [
       "<function __main__.plot_potential_phase_space(potential_case='Harmonic', k=1.0, a=1.0, b=0.01)>"
      ]
     },
     "execution_count": 5,
     "metadata": {},
     "output_type": "execute_result"
    }
   ],
   "source": [
    "interact(\n",
    "    plot_potential_phase_space,\n",
    "    potential_case=[\"Harmonic\",\"Dual Harmonic\", \"Smooth Harmonic\"],\n",
    "    k=FloatText(value=10.0, description=\"k (Harmonic)\"),\n",
    "    a=FloatText(value=20.0, description=\"a (Dual Hump)\"),\n",
    "    b=FloatText(value=2, description=\"b (Smooth)\"),\n",
    "    \n",
    ")"
   ]
  },
  {
   "cell_type": "code",
   "execution_count": null,
   "metadata": {},
   "outputs": [],
   "source": []
  }
 ],
 "metadata": {
  "kernelspec": {
   "display_name": "capedenv",
   "language": "python",
   "name": "python3"
  },
  "language_info": {
   "codemirror_mode": {
    "name": "ipython",
    "version": 3
   },
   "file_extension": ".py",
   "mimetype": "text/x-python",
   "name": "python",
   "nbconvert_exporter": "python",
   "pygments_lexer": "ipython3",
   "version": "3.10.15"
  }
 },
 "nbformat": 4,
 "nbformat_minor": 2
}
