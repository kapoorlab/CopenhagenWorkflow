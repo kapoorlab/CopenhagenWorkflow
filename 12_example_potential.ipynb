{
 "cells": [
  {
   "cell_type": "code",
   "execution_count": 1,
   "metadata": {},
   "outputs": [],
   "source": [
    "import numpy as np\n",
    "import matplotlib.pyplot as plt\n",
    "from ipywidgets import interact, FloatText, Select\n",
    "from IPython.display import clear_output\n",
    "import seaborn as sns\n",
    "\n",
    "from scipy.integrate import solve_ivp\n"
   ]
  },
  {
   "cell_type": "code",
   "execution_count": 22,
   "metadata": {},
   "outputs": [],
   "source": [
    "\n",
    "# Harmonic potential (standard)\n",
    "def harmonic_potential(x, k=1.0):\n",
    "    potential = 0.5 * k * x**2\n",
    "    force = -k * x\n",
    "    return potential, force\n",
    "\n",
    "\n",
    "\n",
    "\n",
    "def force_function(x, k, a):\n",
    "    \n",
    "    force = -2 * k * x * (x**2 - a)\n",
    "    return force\n",
    "\n",
    "def double_force_potential_function(x, k, a):\n",
    "    potential = 0.5 * k * (x**2 - a)**2\n",
    "    return potential\n",
    "\n",
    "\n",
    "\n",
    "def dual_harmonic_potential(x, k=1.0, a = 1.0):\n",
    "    \n",
    "    potential = double_force_potential_function(x,k,a)\n",
    "    force = force_function(x, k,a)\n",
    "    \n",
    "    return potential, force\n",
    "\n",
    "\n",
    "# Simulate particle motion\n",
    "def simulate_motion(potential_func, params, x0=1.0, v0=0.0, t_min=0, t_max=36, dt=0.01):\n",
    "    def dynamics(t, y):\n",
    "        x, v = y\n",
    "        _, force = potential_func(x, **params)\n",
    "        return [v, force]\n",
    "\n",
    "    t_span = (t_min, t_max)\n",
    "    t_eval = np.arange(t_min, t_max, dt)\n",
    "    sol = solve_ivp(dynamics, t_span, [x0, v0], t_eval=t_eval)\n",
    "    return sol.t, sol.y[0], sol.y[1]\n",
    "\n",
    "\n",
    "# Plot the potential and phase space\n",
    "def plot_potential_phase_space(potential_case=\"Dual Harmonic\", k=1.0,a = 1.0):\n",
    "    clear_output(wait=True)\n",
    "    x = np.linspace(-50, 50, 500)\n",
    "    \n",
    "    potential, _ = dual_harmonic_potential(x, k, a)\n",
    "    params = {'k': k, 'a': a}\n",
    "    potential_func = dual_harmonic_potential\n",
    "\n",
    "    t, x_vals, v_vals = simulate_motion(potential_func, params)\n",
    "    \n",
    "    # Plotting\n",
    "    fig, ax = plt.subplots(1, 2, figsize=(12, 5))\n",
    "    \n",
    "    # Plot potential\n",
    "    ax[0].plot(x, np.log(1 + potential), label=\"Potential\")\n",
    "    ax[0].set_xlabel(\"x\")\n",
    "    ax[0].set_ylabel(\"Potential\")\n",
    "    ax[0].set_title(f\"{potential_case} Potential\")\n",
    "    ax[0].grid(True)\n",
    "    ax[0].legend()\n",
    "\n",
    "    # Plot phase space\n",
    "    ax[1].plot(x_vals, v_vals, label=\"Phase Space\")\n",
    "    ax[1].set_xlabel(\"x\")\n",
    "    ax[1].set_ylabel(\"v\")\n",
    "    ax[1].set_title(\"Phase Space\")\n",
    "    ax[1].grid(True)\n",
    "    ax[1].legend()\n",
    "    \n",
    "    # Seaborn KDE plot\n",
    "    fig, ax = plt.subplots(figsize=(8, 6))\n",
    "    sns.kdeplot(x=x_vals, y=v_vals, ax=ax, cmap=\"viridis\", fill=True)\n",
    "    ax.set_xlabel(\"x\")\n",
    "    ax.set_ylabel(\"v\")\n",
    "    ax.set_title(\"Phase Space - KDE Plot\")\n",
    "    plt.tight_layout()\n",
    "    plt.show()\n",
    "\n"
   ]
  },
  {
   "cell_type": "code",
   "execution_count": 23,
   "metadata": {},
   "outputs": [
    {
     "data": {
      "application/vnd.jupyter.widget-view+json": {
       "model_id": "21a839c14f974febbe7fbbb19b557b7f",
       "version_major": 2,
       "version_minor": 0
      },
      "text/plain": [
       "interactive(children=(Dropdown(description='potential_case', options=('Dual Harmonic',), value='Dual Harmonic'…"
      ]
     },
     "metadata": {},
     "output_type": "display_data"
    },
    {
     "data": {
      "text/plain": [
       "<function __main__.plot_potential_phase_space(potential_case='Dual Harmonic', k=1.0, a=1.0)>"
      ]
     },
     "execution_count": 23,
     "metadata": {},
     "output_type": "execute_result"
    }
   ],
   "source": [
    "interact(\n",
    "    plot_potential_phase_space,\n",
    "    potential_case=[\"Dual Harmonic\"],\n",
    "    k=FloatText(value=10.0, description=\"k (Harmonic)\"),\n",
    "    a=FloatText(value=2.0, description=\"a (Dual Hump)\"),\n",
    "    \n",
    ")"
   ]
  },
  {
   "cell_type": "code",
   "execution_count": null,
   "metadata": {},
   "outputs": [],
   "source": []
  }
 ],
 "metadata": {
  "kernelspec": {
   "display_name": "capedenv",
   "language": "python",
   "name": "python3"
  },
  "language_info": {
   "codemirror_mode": {
    "name": "ipython",
    "version": 3
   },
   "file_extension": ".py",
   "mimetype": "text/x-python",
   "name": "python",
   "nbconvert_exporter": "python",
   "pygments_lexer": "ipython3",
   "version": "3.10.15"
  }
 },
 "nbformat": 4,
 "nbformat_minor": 2
}
