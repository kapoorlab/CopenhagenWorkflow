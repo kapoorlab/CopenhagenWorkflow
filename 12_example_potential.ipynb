{
 "cells": [
  {
   "cell_type": "code",
   "execution_count": 62,
   "metadata": {},
   "outputs": [],
   "source": [
    "import numpy as np\n",
    "import matplotlib.pyplot as plt\n",
    "from ipywidgets import interact, FloatText\n",
    "from IPython.display import clear_output\n",
    "\n",
    "\n",
    "from scipy.integrate import solve_ivp\n"
   ]
  },
  {
   "cell_type": "code",
   "execution_count": 71,
   "metadata": {},
   "outputs": [],
   "source": [
    "\n",
    "def asymmetric_dual_hump_potential(x, k1=1.0, k2=1.0, a1=1.0, a2=1.0):\n",
    "    \"\"\"Asymmetric potential with two humps of maxima separated by distance.\"\"\"\n",
    "    potential = 0.5 * k1 * (x**2 - a1)**2 + 0.5 * k2 * (x**2 - a2)**2\n",
    "    force = -2 * k1 * x * (x**2 - a1) - 2 * k2 * x * (x**2 - a2)\n",
    "    return potential, force\n",
    "\n",
    "# Simulate particle motion\n",
    "def simulate_motion(potential_func, params, x0=1.0, v0=0.0, t_min=0, t_max=3600, dt=0.01):\n",
    "    def dynamics(t, y):\n",
    "        x, v = y\n",
    "        _, force = potential_func(x, **params)\n",
    "        return [v, force]\n",
    "\n",
    "    t_span = (t_min, t_max)\n",
    "    t_eval = np.arange(t_min, t_max, dt)\n",
    "    sol = solve_ivp(dynamics, t_span, [x0, v0], t_eval=t_eval)\n",
    "    return sol.t, sol.y[0], sol.y[1]\n",
    "\n",
    "# Plot the potential and phase space\n",
    "def plot_potential_phase_space(k1=1.0, k2=1.0, a1=1.0, a2=1.0):\n",
    "\n",
    "    clear_output(wait=True)\n",
    "    x = np.linspace(-20, 20, 500)\n",
    "    \n",
    "    potential, _ = asymmetric_dual_hump_potential(x, k1, k2, a1, a2)\n",
    "    params = {'k1': k1, 'k2': k2, 'a1': a1, 'a2': a2}\n",
    "    potential_func = asymmetric_dual_hump_potential\n",
    "    \n",
    "    # Simulate motion\n",
    "    t, x_vals, v_vals = simulate_motion(potential_func, params, t_max=360)\n",
    "    print(len(x_vals), len(v_vals))\n",
    "    # Plotting\n",
    "    fig, ax = plt.subplots(1, 2, figsize=(12, 5))\n",
    "    \n",
    "    # Plot potential\n",
    "    ax[0].plot(x, np.log(potential), label=\"Asymmetric Dual Hump Potential\")\n",
    "    ax[0].set_xlabel(\"x\")\n",
    "    ax[0].set_ylabel(\"Potential (log scale)\")\n",
    "    ax[0].set_title(\"Potential\")\n",
    "    ax[0].grid(True)\n",
    "    ax[0].legend()\n",
    "\n",
    "    # Plot phase space\n",
    "    ax[1].plot(x_vals, v_vals, label=\"Phase Space\")\n",
    "    ax[1].set_xlabel(\"x\")\n",
    "    ax[1].set_ylabel(\"v\")\n",
    "    ax[1].set_title(\"Phase Space\")\n",
    "    ax[1].grid(True)\n",
    "    ax[1].legend()\n",
    "\n",
    "    plt.tight_layout()\n",
    "    plt.show()\n",
    "\n",
    "# Interactive input boxes for parameters\n",
    "\n"
   ]
  },
  {
   "cell_type": "code",
   "execution_count": 72,
   "metadata": {},
   "outputs": [
    {
     "data": {
      "application/vnd.jupyter.widget-view+json": {
       "model_id": "b2e9d3652720487d90e8fbab53673c45",
       "version_major": 2,
       "version_minor": 0
      },
      "text/plain": [
       "interactive(children=(FloatText(value=1.0, description='k1 (Hump 1)'), FloatText(value=1.0, description='k2 (H…"
      ]
     },
     "metadata": {},
     "output_type": "display_data"
    },
    {
     "data": {
      "text/plain": [
       "<function __main__.plot_potential_phase_space(k1=1.0, k2=1.0, a1=1.0, a2=1.0)>"
      ]
     },
     "execution_count": 72,
     "metadata": {},
     "output_type": "execute_result"
    }
   ],
   "source": [
    "interact(\n",
    "    plot_potential_phase_space,\n",
    "    k1=FloatText(value=1.0, description=\"k1 (Hump 1)\"),\n",
    "    k2=FloatText(value=1.0, description=\"k2 (Hump 2)\"),\n",
    "    a1=FloatText(value=1.0, description=\"a1 (Hump 1)\"),\n",
    "    a2=FloatText(value=1.0, description=\"a2 (Hump 2)\"),\n",
    ")"
   ]
  },
  {
   "cell_type": "code",
   "execution_count": null,
   "metadata": {},
   "outputs": [],
   "source": []
  }
 ],
 "metadata": {
  "kernelspec": {
   "display_name": "capedenv",
   "language": "python",
   "name": "python3"
  },
  "language_info": {
   "codemirror_mode": {
    "name": "ipython",
    "version": 3
   },
   "file_extension": ".py",
   "mimetype": "text/x-python",
   "name": "python",
   "nbconvert_exporter": "python",
   "pygments_lexer": "ipython3",
   "version": "3.10.15"
  }
 },
 "nbformat": 4,
 "nbformat_minor": 2
}
