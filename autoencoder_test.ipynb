{
 "cells": [
  {
   "cell_type": "code",
   "execution_count": null,
   "metadata": {},
   "outputs": [],
   "source": [
    "import numpy as np\n",
    "from kapoorlabs_lightning.lightning_trainer import ClusterLightningModel, AutoLightningModel\n",
    "from pyntcloud import PyntCloud\n",
    "from cellshape_cloud import CloudAutoEncoder\n",
    "from napatrackmater import load_json\n",
    "from kapoorlabs_lightning.pytorch_losses import ChamferLoss\n",
    "from kapoorlabs_lightning.optimizers import Adam\n",
    "import torch\n",
    "import pandas as pd\n",
    "def main():\n",
    "\tpoint_cloud = PyntCloud.from_file(\"/gpfsscratch/rech/jsy/uzj81mi/Mari_Data_Training/xenopus_segmentation_cellshape/cloud_mask_nuclei/point_cloud/Merged-237_Second_Dataset12051555.ply\")\n",
    "\tmodel_path = '/gpfsstore/rech/jsy/uzj81mi/Mari_Models/NucleiCloud/xenopus_nuclei_dgcnn_foldingnet_knn32.ckpt'\n",
    "\tmodel_path_json = '/gpfsstore/rech/jsy/uzj81mi/Mari_Models/NucleiCloud/xenopus_nuclei_dgcnn_foldingnet_knn32.json'\n",
    "\n",
    "\t\n",
    "\tpoint_cloud.plot(mesh=True)\n",
    "\n",
    "\tloss = ChamferLoss()\n",
    "\toptimizer = Adam(lr=0.001)\n",
    "\tmodelconfig = load_json(model_path_json)\n",
    "\tcloud_autoencoder = CloudAutoEncoder(\n",
    "\t\tnum_features=64,\n",
    "\t\tk=16,\n",
    "\t\tencoder_type=modelconfig[\"encoder_type\"],\n",
    "\t\tdecoder_type=modelconfig[\"decoder_type\"],\n",
    "\t    )\n",
    "\tautoencoder = AutoLightningModel.load_from_checkpoint(model_path, network = cloud_autoencoder, loss_func = loss, optim_func = optimizer)\n",
    "\n",
    "\tpoint_cloud = torch.tensor(point_cloud.points.values)\n",
    "\tmean = torch.mean(point_cloud, 0)\n",
    "\tscale = torch.tensor([[8, 16, 16]])\n",
    "\tpoint_cloud = (point_cloud - mean) / scale\n",
    "\t\n",
    "\toutputs, features = autoencoder(point_cloud.unsqueeze(0).to('cuda'))\n",
    "\t\n",
    "\toutputs = outputs.detach().cpu().numpy()[0,:]\n",
    "\tpoints = pd.DataFrame(outputs)\n",
    "\tpoints = pd.DataFrame(points.values, columns=[\"x\", \"y\", \"z\"])\n",
    "\tcloud = PyntCloud(points)\n",
    "\tcloud.plot(mesh=True)\n",
    "        \n",
    "\n",
    "if __name__=='__main__':\n",
    "\n",
    "      main()\n",
    "\n"
   ]
  }
 ],
 "metadata": {
  "language_info": {
   "name": "python"
  },
  "orig_nbformat": 4
 },
 "nbformat": 4,
 "nbformat_minor": 2
}
