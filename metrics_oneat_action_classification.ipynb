{
 "cells": [
  {
   "cell_type": "code",
   "execution_count": 1,
   "metadata": {},
   "outputs": [],
   "source": [
    "import matplotlib.pyplot as plt\n",
    "import seaborn as sns\n",
    "from caped_ai_metrics import ClassificationScore"
   ]
  },
  {
   "cell_type": "code",
   "execution_count": 32,
   "metadata": {},
   "outputs": [],
   "source": [
    "prediction_csv_file = 'classification_metrics/non_maximal_oneat_mitosis_locations_nuclei_Merged.csv'\n",
    "ground_truth_csv_file = 'classification_metrics/divisions_3D.csv'\n"
   ]
  },
  {
   "cell_type": "code",
   "execution_count": 60,
   "metadata": {},
   "outputs": [],
   "source": [
    "compute_score = ClassificationScore(prediction_csv_file, ground_truth_csv_file, score_thresh = 0.9999, time_thresh = 2, space_thresh = 20)\n",
    "dataframe = compute_score.model_scorer()\n"
   ]
  },
  {
   "cell_type": "code",
   "execution_count": 61,
   "metadata": {},
   "outputs": [
    {
     "data": {
      "text/html": [
       "<div>\n",
       "<style scoped>\n",
       "    .dataframe tbody tr th:only-of-type {\n",
       "        vertical-align: middle;\n",
       "    }\n",
       "\n",
       "    .dataframe tbody tr th {\n",
       "        vertical-align: top;\n",
       "    }\n",
       "\n",
       "    .dataframe thead th {\n",
       "        text-align: right;\n",
       "    }\n",
       "</style>\n",
       "<table border=\"1\" class=\"dataframe\">\n",
       "  <thead>\n",
       "    <tr style=\"text-align: right;\">\n",
       "      <th></th>\n",
       "      <th>Model</th>\n",
       "      <th>TP</th>\n",
       "      <th>FP</th>\n",
       "      <th>FN</th>\n",
       "      <th>Precision</th>\n",
       "      <th>Recall</th>\n",
       "      <th>F1</th>\n",
       "    </tr>\n",
       "  </thead>\n",
       "  <tbody>\n",
       "    <tr>\n",
       "      <th>0</th>\n",
       "      <td>non_maximal_oneat_mitosis_locations_nuclei_Merged</td>\n",
       "      <td>252</td>\n",
       "      <td>592</td>\n",
       "      <td>211</td>\n",
       "      <td>0.298578</td>\n",
       "      <td>0.544276</td>\n",
       "      <td>0.385616</td>\n",
       "    </tr>\n",
       "  </tbody>\n",
       "</table>\n",
       "</div>"
      ],
      "text/plain": [
       "                                               Model   TP   FP   FN  \\\n",
       "0  non_maximal_oneat_mitosis_locations_nuclei_Merged  252  592  211   \n",
       "\n",
       "   Precision    Recall        F1  \n",
       "0   0.298578  0.544276  0.385616  "
      ]
     },
     "execution_count": 61,
     "metadata": {},
     "output_type": "execute_result"
    }
   ],
   "source": [
    "dataframe"
   ]
  },
  {
   "cell_type": "code",
   "execution_count": 45,
   "metadata": {},
   "outputs": [
    {
     "data": {
      "text/plain": [
       "[[251, 1230], [191, 0]]"
      ]
     },
     "execution_count": 45,
     "metadata": {},
     "output_type": "execute_result"
    }
   ],
   "source": [
    "precision = dataframe['Precision'][0]\n",
    "recall = dataframe['Recall'][0]\n",
    "f1_score = dataframe['F1'][0]\n",
    "true_positive = dataframe['TP'][0]\n",
    "false_positive = dataframe['FP'][0]\n",
    "false_negative = dataframe['FN'][0]\n",
    "\n",
    "conf_matrix = [[true_positive, false_positive],\n",
    "               [false_negative, 0]]\n",
    "conf_matrix"
   ]
  },
  {
   "cell_type": "code",
   "execution_count": null,
   "metadata": {},
   "outputs": [
    {
     "data": {
      "image/png": "[encoded data removed]",
      "text/plain": [
       "<Figure size 600x400 with 1 Axes>"
      ]
     },
     "metadata": {},
     "output_type": "display_data"
    },
    {
     "name": "stdout",
     "output_type": "stream",
     "text": [
      "Precision: 0.3399122807017544\n",
      "Recall: 0.36046511627906974\n",
      "F1 Score: 0.34988713318284426\n"
     ]
    }
   ],
   "source": [
    "plt.figure(figsize=(6, 4))\n",
    "sns.heatmap(conf_matrix, annot=True, fmt='d', cmap='Blues', cbar=False,\n",
    "            xticklabels=['Predicted Positive', 'Predicted Negative'],\n",
    "            yticklabels=['Actual Positive', 'Actual Negative'])\n",
    "plt.title('Confusion Matrix -densenet model')\n",
    "plt.xlabel('Predicted Label')\n",
    "plt.ylabel('True Label')non_maximal_oneat_mitosis_locations_nuclei_Merged.csv\n",
    "figname = 'classification_metrics/oneat_confusion_matrix.png'\n",
    "plt.savefig(figname)\n",
    "plt.show()\n",
    "\n",
    "# Print metrics\n",
    "print(f\"Precision: {precision}\")\n",
    "print(f\"Recall: {recall}\")\n",
    "print(f\"F1 Score: {f1_score}\")"
   ]
  },
  {
   "cell_type": "code",
   "execution_count": null,
   "metadata": {},
   "outputs": [],
   "source": []
  }
 ],
 "metadata": {
  "kernelspec": {
   "display_name": "base",
   "language": "python",
   "name": "python3"
  },
  "language_info": {
   "codemirror_mode": {
    "name": "ipython",
    "version": 3
   },
   "file_extension": ".py",
   "mimetype": "text/x-python",
   "name": "python",
   "nbconvert_exporter": "python",
   "pygments_lexer": "ipython3",
   "version": "3.10.16"
  },
  "orig_nbformat": 4
 },
 "nbformat": 4,
 "nbformat_minor": 2
}
