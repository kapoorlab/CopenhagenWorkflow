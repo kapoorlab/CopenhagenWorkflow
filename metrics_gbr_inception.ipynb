{
 "cells": [
  {
   "cell_type": "code",
   "execution_count": 1,
   "metadata": {},
   "outputs": [
    {
     "name": "stderr",
     "output_type": "stream",
     "text": [
      "/home/debian/miniconda3/envs/kapoorlabsenv/lib/python3.10/site-packages/kornia/feature/lightglue.py:44: FutureWarning: `torch.cuda.amp.custom_fwd(args...)` is deprecated. Please use `torch.amp.custom_fwd(args..., device_type='cuda')` instead.\n",
      "  @torch.cuda.amp.custom_fwd(cast_inputs=torch.float32)\n",
      "2024-08-05 12:50:54.921143: E external/local_xla/xla/stream_executor/cuda/cuda_fft.cc:485] Unable to register cuFFT factory: Attempting to register factory for plugin cuFFT when one has already been registered\n",
      "2024-08-05 12:50:54.948047: E external/local_xla/xla/stream_executor/cuda/cuda_dnn.cc:8454] Unable to register cuDNN factory: Attempting to register factory for plugin cuDNN when one has already been registered\n",
      "2024-08-05 12:50:54.956416: E external/local_xla/xla/stream_executor/cuda/cuda_blas.cc:1452] Unable to register cuBLAS factory: Attempting to register factory for plugin cuBLAS when one has already been registered\n",
      "2024-08-05 12:50:54.976362: I tensorflow/core/platform/cpu_feature_guard.cc:210] This TensorFlow binary is optimized to use available CPU instructions in performance-critical operations.\n",
      "To enable the following instructions: AVX2 FMA, in other operations, rebuild TensorFlow with the appropriate compiler flags.\n",
      "2024-08-05 12:50:56.219773: W tensorflow/compiler/tf2tensorrt/utils/py_utils.cc:38] TF-TRT Warning: Could not find TensorRT\n"
     ]
    }
   ],
   "source": [
    "from pathlib import Path \n",
    "import os\n",
    "import numpy as np\n",
    "import pandas as pd\n",
    "import matplotlib.pyplot as plt\n",
    "import seaborn as sns\n",
    "from tqdm import tqdm\n",
    "from napatrackmater.Trackvector import (TrackVector,\n",
    "                                        SHAPE_FEATURES, \n",
    "                                        DYNAMIC_FEATURES, \n",
    "                                        SHAPE_DYNAMIC_FEATURES,\n",
    "                                        \n",
    "                                        )"
   ]
  },
  {
   "cell_type": "code",
   "execution_count": 2,
   "metadata": {},
   "outputs": [],
   "source": [
    "dataset_name = 'Second'\n",
    "home_folder = '/home/debian/jz/'\n",
    "timelapse_to_track = f'timelapse_{dataset_name.lower()}_dataset'\n",
    "tracking_directory = f'{home_folder}Mari_Data_Oneat/Mari_{dataset_name}_Dataset_Analysis/nuclei_membrane_tracking/'\n",
    "channel = 'nuclei_'\n",
    "data_frames_dir = os.path.join(tracking_directory, f'dataframes/')\n",
    "save_dir = os.path.join(tracking_directory, f'cell_fate_accuracy/')\n",
    "Path(save_dir).mkdir(exist_ok=True)\n",
    "master_xml_name = 'master_' + 'marching_cubes_filled_' + channel + timelapse_to_track + \".xml\"\n",
    "xml_path = Path(os.path.join(tracking_directory, master_xml_name))\n",
    "  \n",
    "goblet_cells_file = f'{home_folder}Mari_Data_Oneat/Mari_{dataset_name}_Dataset_Analysis/annotations_predicted_tracklet_length_25_t_initial_150_t_final_250/goblet_cells_{channel}annotations_inception.csv'\n",
    "basal_cells_file = f'{home_folder}Mari_Data_Oneat/Mari_{dataset_name}_Dataset_Analysis/annotations_predicted_tracklet_length_25_t_initial_150_t_final_250/basal_cells_{channel}annotations_inception.csv'\n",
    "radial_cells_file = f'{home_folder}Mari_Data_Oneat/Mari_{dataset_name}_Dataset_Analysis/annotations_predicted_tracklet_length_25_t_initial_150_t_final_250/radially_intercalating_cells_{channel}annotations_inception.csv'\n",
    "\n",
    "goblet_cells_dataframe = pd.read_csv(goblet_cells_file)\n",
    "basal_cells_dataframe = pd.read_csv(basal_cells_file)\n",
    "radial_cells_dataframe = pd.read_csv(radial_cells_file)\n",
    "\n",
    "\n",
    "\n",
    "gt_goblet_cells_file = f'{home_folder}Mari_Data_Oneat/Mari_{dataset_name}_Dataset_Analysis/annotations/goblet_cells_{channel}annotations.csv'\n",
    "gt_basal_cells_file = f'{home_folder}Mari_Data_Oneat/Mari_{dataset_name}_Dataset_Analysis/annotations/basal_cells_{channel}annotations.csv'\n",
    "gt_radial_cells_file = f'{home_folder}Mari_Data_Oneat/Mari_{dataset_name}_Dataset_Analysis/annotations/radially_intercalating_cells_{channel}annotations.csv'\n",
    "\n",
    "gt_goblet_cells_dataframe = pd.read_csv(gt_goblet_cells_file)\n",
    "gt_basal_cells_dataframe = pd.read_csv(gt_basal_cells_file)\n",
    "gt_radial_cells_dataframe = pd.read_csv(gt_radial_cells_file)\n"
   ]
  },
  {
   "cell_type": "code",
   "execution_count": 3,
   "metadata": {},
   "outputs": [
    {
     "name": "stdout",
     "output_type": "stream",
     "text": [
      "Reading Master XML\n",
      "Iterating over spots in frame\n",
      "Iterating over tracks 4275\n",
      "getting attributes\n",
      "returning shape and dynamic vectors as list 6872\n"
     ]
    }
   ],
   "source": [
    "track_vectors = TrackVector(master_xml_path=xml_path)\n",
    "track_vectors.t_minus = 0\n",
    "track_vectors.t_plus = track_vectors.tend\n",
    "track_vectors.y_start = 0\n",
    "track_vectors.y_end = track_vectors.ymax\n",
    "track_vectors.x_start = 0\n",
    "track_vectors.x_end = track_vectors.xmax\n",
    "\n",
    "track_vectors._interactive_function()"
   ]
  },
  {
   "cell_type": "code",
   "execution_count": 4,
   "metadata": {},
   "outputs": [
    {
     "name": "stdout",
     "output_type": "stream",
     "text": [
      "Trackmate IDs for globlet cells ['5997', '5113', '4545', '4226', '4333', '6314', '6098', '6201', '5660', '6108', '1736', '220', '2943', '5414', '6274', '6464', '6318', '4532', '3806', '5165', '4264', '5793', '5250', '5989', '3341', '5990', '5835', '5470', '6413', '173', '6022', '3278', '2098', '4699', '6125', '189', '2886', '5747', '4398', '2727', '3577', '669', '5943', '5143', '4362', '5593', '4706', '3164', '4973', '2885', '5705', '6050', '5094', '5876', '5336', '5588', '5636', '3662', '3021', '3185', '5237', '5712', '5869', '6092', '4202', '5973', '4105', '6043', '1985', '5849', '5435', '4729', '988', '3637', '6285', '5463', '3874', '6037', '1075', '5842', '5683', '3899', '5322', '5461', '6259', '4359', '6377', '6041', '6093', '6326', '5377', '1927', '3873', '378', '6111', '4588', '6364', '4114', '5948', '4787', '1417', '6091', '6126', '6090', '7084', '7111', '7115', '6964', '6740', '6787', '6546', '7040', '6521', '6504', '6768', '4018', '7060', '6733', '6771', '6924', '6570', '6583', '6689', '6744', '7013', '6656', '6996', '6524', '6966', '6544', '6940', '6626', '5703', '7189', '2636', '6566', '6870', '6600', '6944', '6832', '6793', '6934', '6872', '6937', '6762', '6151', '6151', '6757', '6915', '6979', '5903', '3580', '7266', '7235', '7351', '6797', '7487', '7556', '7784', '7723', '7491', '7612', '6416', '7550', '7704', '7488', '7605', '7585', '7440', '7505', '7895', '7882', '7876', '4563', '7926', '7971', '5167', '8066', '8091', '8136', '8213', '8075', '8169', '8215', '8209', '5691', '8341', '8433', '6785', '3230', '7285']\n",
      "Trackmate IDs for basal cells ['4534', '2739', '5185', '4087', '907', '5254', '5417', '4090', '4744', '5197', '3695', '5396', '4071', '5141', '3124', '5201', '6195', '5112', '2111', '3598', '5265', '6017', '4327', '3908', '5422', '5408', '3928', '4529', '907', '174', '4218', '3051', '1012', '6198', '6420', '6307', '173', '3413', '6027', '1530', '4259', '3938', '2989', '1354', '5027', '4083', '6311', '5413', '3917', '4254', '2229', '6477', '3924', '5204', '6305', '4330', '6400', '5081', '3848', '0', '4268', '178', '4265', '6133', '891', '6512', '6031', '5791', '2546', '6271', '3904', '1753', '6276', '6134', '6109', '627', '4076', '4771', '5836', '2659', '5407', '5253', '515', '4778', '6001', '2489', '291', '6346', '4972', '3275', '2457', '3001', '1657', '5294', '6240', '4379', '5551', '4046', '2379', '5575', '6358', '5606', '48', '4612', '5298', '3748', '6113', '5170', '575', '5928', '5234', '6360', '5710', '4607', '6161', '4121', '2487', '3652', '3271', '5180', '16', '6300', '380', '6328', '4282', '263', '6049', '6242', '1113', '6246', '4320', '5643', '3647', '5328', '2613', '5156', '142', '3978', '788', '4443', '1424', '227', '1424', '5329', '3842', '2172', '3288', '187', '4954', '4662', '3251', '6118', '3248', '127', '4393', '1929', '2997', '4348', '5717', '429', '3190', '3559', '2964', '4956', '4687', '4391', '3572', '3246', '3234', '2411', '3075', '940', '4686', '4130', '235', '3661', '5517', '5021', '1571', '5906', '4615', '2608', '2400', '3719', '5753', '4616', '1648', '5523', '3085', '2603', '5474', '5868', '2397', '2477', '3671', '6356', '1821', '191', '3992', '2406', '6353', '5144', '2159', '5099', '4692', '333', '5516', '2963', '5750', '4126', '5923', '5075', '590', '1539', '5323', '3708', '5186', '3059', '4578', '1796', '4410', '2322', '3691', '5387', '5686', '2928', '5545', '1603', '2129', '5690', '3640', '3844', '2040', '3150', '577', '5618', '2800', '3587', '4409', '5845', '1593', '2521', '4983', '2534', '4414', '5597', '313', '4565', '1726', '3142', '2209', '4415', '4523', '2051', '3946', '4068', '6304', '3009', '4337', '2318', '5558', '5388', '6042', '367', '6258', '4522', '2317', '594', '331', '1959', '3057', '3325', '1043', '2446', '2507', '3860', '5854', '495', '6343', '859', '4507', '6339', '504', '4280', '5155', '2435', '5220', '2992', '4591', '1554', '539', '3756', '1605', '1872', '5584', '5510', '926', '4590', '4189', '224', '2354', '3061', '1444', '720', '5148', '5896', '5605', '6076', '2336', '3153', '5326', '2598', '4449', '4680', '2961', '3312', '5131', '4108', '5102', '5437', '3875', '1798', '3152', '5381', '24', '2340', '559', '5114', '5427', '4312', '6990', '3668', '6643', '6625', '2508', '6752', '4122', '2233', '6727', '6772', '2131', '6851', '7094', '6578', '7034', '6637', '6649', '175', '6913', '6753', '7051', '6896', '6914', '6537', '6936', '6866', '6528', '7061', '6629', '5033', '6871', '7158', '6663', '6199', '6645', '6532', '6773', '6621', '6845', '6586', '6587', '6766', '7404', '6748', '6968', '7291', '5631', '6903', '6837', '6693', '6784', '2576', '325', '7285', '7286', '7216', '7284', '5590', '7287', '5067', '3809', '7226', '7219', '7218', '7314', '7316', '6927', '7290', '7410', '7344', '7328', '7408', '7357', '7363', '7299', '7767', '2195', '7453', '548', '7479', '7441', '7449', '7558', '7568', '7574', '6181', '4560', '7468', '7465', '7470', '7509', '7762', '7482', '7458', '7569', '7540', '7829', '750', '7715', '5764', '7600', '7604', '2072', '7824', '5614', '7967', '5984', '7896', '7904', '7963', '6406', '7974', '8008', '5222', '8084', '6641', '2107', '8124', '8196', '6539', '8078', '1219', '2559', '8137', '8110', '8333', '8342', '7454', '8364', '3257', '8300', '8332', '8309', '8365', '8299', '8374', '8373', '8359', '8308', '6098', '2310', '8380', '8384', '8351', '8354', '8431', '8429', '8294', '8389', '6403', '1481', '8355', '3292', '3600', '8439', '8440', '2367', '4581', '3987', '2865', '7640', '447', '6170', '3586']\n"
     ]
    }
   ],
   "source": [
    "\n",
    "tracklet_length =  10\n",
    "\n",
    "globlet_track_ids = track_vectors._get_trackmate_ids_by_location(goblet_cells_dataframe, tracklet_length=tracklet_length)\n",
    "print(f'Trackmate IDs for globlet cells {globlet_track_ids}')\n",
    "basal_track_ids = track_vectors._get_trackmate_ids_by_location(basal_cells_dataframe,tracklet_length=tracklet_length)\n",
    "print(f'Trackmate IDs for basal cells {basal_track_ids}')\n",
    "radial_track_ids = track_vectors._get_trackmate_ids_by_location(radial_cells_dataframe,tracklet_length=tracklet_length)\n",
    "print(f'Trackmate IDs for radial cells {radial_track_ids}')\n",
    "\n",
    "gt_globlet_track_ids = track_vectors._get_trackmate_ids_by_location(gt_goblet_cells_dataframe,tracklet_length=tracklet_length)\n",
    "print(f'GT Trackmate IDs for globlet cells {gt_globlet_track_ids}')\n",
    "gt_basal_track_ids = track_vectors._get_trackmate_ids_by_location(gt_basal_cells_dataframe,tracklet_length=tracklet_length)\n",
    "print(f'GT Trackmate IDs for basal cells {gt_basal_track_ids}')\n",
    "gt_radial_track_ids = track_vectors._get_trackmate_ids_by_location(gt_radial_cells_dataframe,tracklet_length=tracklet_length)\n",
    "print(f'GT Trackmate IDs for radial cells {gt_radial_track_ids}')"
   ]
  },
  {
   "cell_type": "code",
   "execution_count": null,
   "metadata": {},
   "outputs": [],
   "source": [
    "class_map_gbr = {\n",
    "    0: \"Basal\",\n",
    "    1: \"Radial\",\n",
    "    2: \"Goblet\"\n",
    "}\n",
    "def compute_tp_fn(predicted_ids, gt_ids):\n",
    "    tp = len(set(predicted_ids) & set(gt_ids))\n",
    "    fn = len(set(gt_ids) - set(predicted_ids))\n",
    "    return tp, fn\n",
    "\n",
    "# Compute TP and FN for each category\n",
    "tp_globlet, fn_globlet = compute_tp_fn(globlet_track_ids, gt_globlet_track_ids)\n",
    "tp_basal, fn_basal = compute_tp_fn(basal_track_ids, gt_basal_track_ids)\n",
    "tp_radial, fn_radial = compute_tp_fn(radial_track_ids, gt_radial_track_ids)\n",
    "\n",
    "# Print results\n",
    "print(f'Globlet Cells - TP: {tp_globlet}, FN: {fn_globlet}')\n",
    "print(f'Basal Cells - TP: {tp_basal}, FN: {fn_basal}')\n",
    "print(f'Radial Cells - TP: {tp_radial}, FN: {fn_radial}')\n",
    "\n",
    "# Create a confusion matrix\n",
    "confusion_matrix = {\n",
    "    'Category': ['Globlet', 'Basal', 'Radial'],\n",
    "    'TP': [tp_globlet, tp_basal, tp_radial],\n",
    "    'FN': [fn_globlet, fn_basal, fn_radial]\n",
    "}\n",
    "\n",
    "print(\"\\nConfusion Matrix:\")\n",
    "print(\"{:<10} {:<5} {:<5}\".format('Category', 'TP', 'FN'))\n",
    "for i in range(len(confusion_matrix['Category'])):\n",
    "    print(\"{:<10} {:<5} {:<5}\".format(confusion_matrix['Category'][i], confusion_matrix['TP'][i], confusion_matrix['FN'][i]))\n",
    "\n",
    "\n",
    "conf_matrix_array = np.array([\n",
    "    [tp_basal, fn_basal],\n",
    "    [tp_radial, fn_radial],\n",
    "    [tp_globlet,fn_globlet]\n",
    "])\n",
    "\n",
    "# Plot the confusion matrix\n",
    "plt.figure(figsize=(8, 6))\n",
    "class_names = list(class_map_gbr.values())\n",
    "sns.heatmap(conf_matrix_array, annot=True, fmt='d', cmap='Blues', xticklabels=['TP', 'FN'], yticklabels=class_names)\n",
    "plt.xlabel('Predicted Labels')\n",
    "plt.ylabel('True Labels')\n",
    "plt.title('Confusion Matrix')\n",
    "plt.show()    \n"
   ]
  },
  {
   "cell_type": "code",
   "execution_count": null,
   "metadata": {},
   "outputs": [],
   "source": [
    "# Total ground truth counts for each category\n",
    "total_globlet = len(gt_globlet_track_ids)\n",
    "total_basal = len(gt_basal_track_ids)\n",
    "total_radial = len(gt_radial_track_ids)\n",
    "\n",
    "# Calculate percentages\n",
    "percent_tp_globlet = (tp_globlet / total_globlet) * 100 if total_globlet > 0 else 0\n",
    "percent_fn_globlet = (fn_globlet / total_globlet) * 100 if total_globlet > 0 else 0\n",
    "\n",
    "percent_tp_basal = (tp_basal / total_basal) * 100 if total_basal > 0 else 0\n",
    "percent_fn_basal = (fn_basal / total_basal) * 100 if total_basal > 0 else 0\n",
    "\n",
    "percent_tp_radial = (tp_radial / total_radial) * 100 if total_radial > 0 else 0\n",
    "percent_fn_radial = (fn_radial / total_radial) * 100 if total_radial > 0 else 0\n",
    "\n",
    "# Print results\n",
    "print(f'Globlet Cells - TP: {percent_tp_globlet:.2f}%, FN: {percent_fn_globlet:.2f}%')\n",
    "print(f'Basal Cells - TP: {percent_tp_basal:.2f}%, FN: {percent_fn_basal:.2f}%')\n",
    "print(f'Radial Cells - TP: {percent_tp_radial:.2f}%, FN: {percent_fn_radial:.2f}%')\n",
    "\n",
    "# Create a confusion matrix array\n",
    "conf_matrix_array = np.array([\n",
    "    [percent_tp_basal, percent_fn_basal],\n",
    "    [percent_tp_radial, percent_fn_radial],\n",
    "    [percent_tp_globlet, percent_fn_globlet]\n",
    "])\n",
    "\n",
    "save_path = Path(goblet_cells_file).parent.stem\n",
    "# Plot the confusion matrix\n",
    "plt.figure(figsize=(8, 6))\n",
    "class_names = list(class_map_gbr.values())\n",
    "sns.heatmap(conf_matrix_array, annot=True, fmt='.2f', cmap='Blues', xticklabels=['TP', 'FN'], yticklabels=class_names)\n",
    "plt.xlabel('Predicted Labels')\n",
    "plt.ylabel('True Labels')\n",
    "plt.title('Confusion Matrix (Percentages)')\n",
    "plt.savefig(os.path.join(save_dir,save_path + '.png'))\n",
    "plt.show()"
   ]
  },
  {
   "cell_type": "code",
   "execution_count": null,
   "metadata": {},
   "outputs": [],
   "source": []
  },
  {
   "cell_type": "code",
   "execution_count": null,
   "metadata": {},
   "outputs": [],
   "source": []
  }
 ],
 "metadata": {
  "kernelspec": {
   "display_name": "kapoorlabsenv",
   "language": "python",
   "name": "python3"
  },
  "language_info": {
   "codemirror_mode": {
    "name": "ipython",
    "version": 3
   },
   "file_extension": ".py",
   "mimetype": "text/x-python",
   "name": "python",
   "nbconvert_exporter": "python",
   "pygments_lexer": "ipython3",
   "version": "3.10.14"
  }
 },
 "nbformat": 4,
 "nbformat_minor": 2
}
