{
 "cells": [
  {
   "cell_type": "code",
   "execution_count": 5,
   "metadata": {},
   "outputs": [],
   "source": [
    "from pathlib import Path \n",
    "import os\n",
    "import torch\n",
    "import pandas as pd\n",
    "from tqdm import tqdm\n",
    "import numpy as np\n",
    "import ipywidgets as widgets\n",
    "from IPython.display import display, clear_output\n",
    "from napatrackmater.Trackvector import (\n",
    "    inception_model_prediction,\n",
    "    save_cell_type_predictions,\n",
    "    SHAPE_DYNAMIC_FEATURES\n",
    ")\n",
    "from sklearn.decomposition import PCA\n",
    "from matplotlib import cm\n",
    "import matplotlib.pyplot as plt\n",
    "from ipywidgets import interact, Dropdown, IntSlider"
   ]
  },
  {
   "cell_type": "code",
   "execution_count": 10,
   "metadata": {},
   "outputs": [
    {
     "name": "stdout",
     "output_type": "stream",
     "text": [
      "reading data from /home/debian/jz/Mari_Data_Oneat/Mari_Sixth_Dataset_Analysis/nuclei_membrane_tracking/dataframes/goblet_basal_dataframe_normalized_nuclei_.csv\n"
     ]
    }
   ],
   "source": [
    "dataset_name = 'Sixth'\n",
    "home_folder = '/home/debian/jz/'\n",
    "channel = 'nuclei_'\n",
    "tracking_directory = f'{home_folder}Mari_Data_Oneat/Mari_{dataset_name}_Dataset_Analysis/nuclei_membrane_tracking/'\n",
    "data_frames_dir = os.path.join(tracking_directory, f'dataframes/')\n",
    "\n",
    "device = 'cuda' if torch.cuda.is_available() else 'cpu'\n",
    "tracklet_length = 25\n",
    "normalized_dataframe = os.path.join(data_frames_dir , f'goblet_basal_dataframe_normalized_{channel}.csv')\n",
    "print(f'reading data from {normalized_dataframe}')\n",
    "tracks_dataframe = pd.read_csv(normalized_dataframe)\n",
    "n_components = 3\n",
    "\n",
    "class_map_gbr = {\n",
    "        0: \"Basal\",\n",
    "        1: \"Radial\",\n",
    "        2: \"Goblet\"\n",
    "    }"
   ]
  },
  {
   "cell_type": "code",
   "execution_count": 15,
   "metadata": {},
   "outputs": [],
   "source": [
    "all_trackmate_ids = [trackid  for trackid in tracks_dataframe['TrackMate Track ID'].unique()]\n",
    "result_dict = {cell_type: {} for cell_type in class_map_gbr.values()}\n",
    "\n",
    "unique_time_points = tracks_dataframe['t'].unique()\n",
    "\n",
    "for time_point in unique_time_points:\n",
    "        time_data = tracks_dataframe[tracks_dataframe['t'] == time_point]\n",
    "\n",
    "        for cell_type in class_map_gbr.values():\n",
    "            cell_type_data = tracks_dataframe[tracks_dataframe['Cell_Type'] == cell_type]\n",
    "\n",
    "            if not cell_type_data.empty:\n",
    "                \n",
    "                features_list = []\n",
    "                for track_id in cell_type_data['Track ID'].unique():\n",
    "                    track_features = cell_type_data[cell_type_data['Track ID'] == track_id][SHAPE_DYNAMIC_FEATURES].to_numpy()\n",
    "                    features_list.append(track_features)\n",
    "\n",
    "                concatenated_features = np.vstack(features_list)\n",
    "                \n",
    "                if concatenated_features.shape[0] > n_components:  \n",
    "\n",
    "                   \n",
    "                    pca = PCA(n_components=n_components)\n",
    "                    principal_components = pca.fit_transform(concatenated_features)\n",
    "\n",
    "                    if time_point not in result_dict[cell_type]:\n",
    "                        result_dict[cell_type][time_point] = []\n",
    "\n",
    "                    result_dict[cell_type][time_point].append(principal_components)\n"
   ]
  },
  {
   "cell_type": "code",
   "execution_count": 13,
   "metadata": {},
   "outputs": [
    {
     "data": {
      "text/plain": [
       "{'Basal': {}, 'Radial': {}, 'Goblet': {}}"
      ]
     },
     "execution_count": 13,
     "metadata": {},
     "output_type": "execute_result"
    }
   ],
   "source": [
    "\n",
    "def plot_pcs(result_dict, cell_type, time_point):\n",
    "    if cell_type in result_dict and time_point in result_dict[cell_type]:\n",
    "        pcs = np.vstack(result_dict[cell_type][time_point])\n",
    "\n",
    "        plt.figure(figsize=(12, 6))\n",
    "\n",
    "        # PC1 vs PC2\n",
    "        plt.subplot(1, 2, 1)\n",
    "        plt.scatter(pcs[:, 0], pcs[:, 1], alpha=0.7)\n",
    "        plt.xlabel('PC1')\n",
    "        plt.ylabel('PC2')\n",
    "        plt.title(f'PC1 vs PC2 for {cell_type} at time {time_point}')\n",
    "\n",
    "        # PC2 vs PC3\n",
    "        plt.subplot(1, 2, 2)\n",
    "        plt.scatter(pcs[:, 1], pcs[:, 2], alpha=0.7)\n",
    "        plt.xlabel('PC2')\n",
    "        plt.ylabel('PC3')\n",
    "        plt.title(f'PC2 vs PC3 for {cell_type} at time {time_point}')\n",
    "\n",
    "        plt.tight_layout()\n",
    "        plt.show()\n",
    "    else:\n",
    "        print(f\"No data available for {cell_type} at time {time_point}\")\n",
    "\n",
    "# Interactive widget setup\n",
    "def interactive_plot(result_dict, class_map_gbr, unique_time_points):\n",
    "    interact(\n",
    "        plot_pcs,\n",
    "        result_dict=widgets.fixed(result_dict),\n",
    "        cell_type=Dropdown(options=list(class_map_gbr.values()), description='Cell Type:'),\n",
    "        time_point=IntSlider(min=min(unique_time_points), max=max(unique_time_points), step=1, description='Time Point:')\n",
    "    )"
   ]
  },
  {
   "cell_type": "code",
   "execution_count": null,
   "metadata": {},
   "outputs": [],
   "source": [
    "interactive_plot(result_dict, class_map_gbr, tracks_dataframe['t'].unique())"
   ]
  }
 ],
 "metadata": {
  "kernelspec": {
   "display_name": "capedenv",
   "language": "python",
   "name": "python3"
  },
  "language_info": {
   "codemirror_mode": {
    "name": "ipython",
    "version": 3
   },
   "file_extension": ".py",
   "mimetype": "text/x-python",
   "name": "python",
   "nbconvert_exporter": "python",
   "pygments_lexer": "ipython3",
   "version": "3.10.15"
  }
 },
 "nbformat": 4,
 "nbformat_minor": 2
}
