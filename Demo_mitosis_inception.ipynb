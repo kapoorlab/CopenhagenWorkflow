{
 "cells": [
  {
   "cell_type": "code",
   "execution_count": null,
   "metadata": {},
   "outputs": [],
   "source": [
    "from napatrackmater.Trackvector import TrackVector\n",
    "from pathlib import Path \n",
    "import os\n",
    "import torch\n",
    "import ipywidgets as widgets\n",
    "from IPython.display import clear_output\n",
    "import matplotlib.pyplot as plt\n",
    "import pandas as pd\n",
    "from torch.nn.modules.loss import CrossEntropyLoss\n",
    "from kapoorlabs_lightning.optimizers import Adam\n",
    "\n",
    "from kapoorlabs_lightning.pytorch_models import DenseNet\n",
    "from kapoorlabs_lightning.lightning_trainer import LightningModel\n",
    "from napatrackmater.Trackvector import (\n",
    "    TrackVector,\n",
    "    SHAPE_FEATURES,\n",
    "    DYNAMIC_FEATURES\n",
    ")\n",
    "\n",
    "\n",
    "\n"
   ]
  },
  {
   "cell_type": "code",
   "execution_count": null,
   "metadata": {},
   "outputs": [],
   "source": [
    "home_folder = '/home/debian/jz/'"
   ]
  },
  {
   "cell_type": "code",
   "execution_count": null,
   "metadata": {},
   "outputs": [],
   "source": [
    "dataset_name = 'Third'\n",
    "timelapse_nuclei_to_track = f'timelapse_{dataset_name.lower()}_dataset'\n",
    "tracking_directory = f'{home_folder}Mari_Data_Oneat/Mari_{dataset_name}_Dataset_Analysis/nuclei_membrane_tracking/'\n",
    "channel = 'nuclei_'\n",
    "timelapse_to_track = timelapse_nuclei_to_track\n",
    "base_dir = tracking_directory\n",
    "master_xml_name = 'master_' + 'marching_cubes_filled_' + channel + timelapse_to_track + \".xml\"\n",
    "xml_path = Path(os.path.join(base_dir, master_xml_name))\n",
    "oneat_detections = f'{home_folder}Mari_Data_Oneat/Mari_{dataset_name}_Dataset_Analysis/oneat_detections/non_maximal_oneat_mitosis_locations_nuclei_timelapse_{dataset_name.lower()}_dataset.csv'\n",
    "tracklet_length = 50\n",
    "save_file = os.path.join(base_dir , f'results_dataframe_normalized_{channel}.csv')\n",
    "\n",
    "dataset_dataframe = pd.read_csv(save_file)\n",
    "\n"
   ]
  },
  {
   "cell_type": "code",
   "execution_count": null,
   "metadata": {},
   "outputs": [],
   "source": [
    "model_dir = f'{home_folder}Mari_Models/TrackModels/'\n",
    "shape_model_json = f'{model_dir}shape_feature_lightning_densenet_mitosis/shape_densenet.json'\n",
    "\n",
    "device = 'cpu'\n",
    "loss_func =  CrossEntropyLoss()\n",
    "shape_lightning_model, shape_torch_model = LightningModel.extract_mitosis_model(\n",
    "    DenseNet,\n",
    "    shape_model_json,\n",
    "    loss_func,\n",
    "    Adam,\n",
    "    map_location=torch.device(device)\n",
    "    \n",
    ")\n",
    "\n",
    "\n",
    "\n",
    "shape_torch_model.eval()\n"
   ]
  },
  {
   "cell_type": "code",
   "execution_count": null,
   "metadata": {},
   "outputs": [],
   "source": [
    "\n",
    "dynamic_model_json = f'{model_dir}dynamic_feature_lightning_densenet_mitosis/dynamic_densenet.json'\n",
    "\n",
    "dynamic_lightning_model, dynamic_torch_model = LightningModel.extract_mitosis_model(\n",
    "    DenseNet,\n",
    "    dynamic_model_json,\n",
    "    loss_func,\n",
    "    Adam,\n",
    "    map_location=torch.device(device)\n",
    "    \n",
    ")\n",
    "\n",
    "dynamic_torch_model.eval()"
   ]
  },
  {
   "cell_type": "code",
   "execution_count": null,
   "metadata": {},
   "outputs": [],
   "source": [
    "dividing_tracklets = dataset_dataframe[(dataset_dataframe['Dividing'] == 1) & (dataset_dataframe['Generation ID'] >= 0) & (dataset_dataframe['Track Duration'] > tracklet_length/0.07)]\n",
    "\n",
    "non_dividing_tracklets = dataset_dataframe[dataset_dataframe['Dividing'] == 0 & (dataset_dataframe['Track Duration'] > tracklet_length/0.07)]\n",
    "\n"
   ]
  },
  {
   "cell_type": "code",
   "execution_count": null,
   "metadata": {},
   "outputs": [],
   "source": [
    "random_dividing_track = dividing_tracklets['Track ID'].sample().iloc[0]\n",
    "random_non_dividing_track = non_dividing_tracklets['Track ID'].sample().iloc[0]\n",
    "\n",
    "sub_dividing_dataframe = dividing_tracklets[dividing_tracklets['Track ID']==random_dividing_track]\n",
    "sub_dividing_dataframe_dynamic = sub_dividing_dataframe[DYNAMIC_FEATURES].values\n",
    "sub_dividing_dataframe_shape = sub_dividing_dataframe[SHAPE_FEATURES].values\n",
    "\n",
    "sub_non_dividing_dataframe = non_dividing_tracklets[non_dividing_tracklets['Track ID']==random_non_dividing_track]\n",
    "sub_non_dividing_dataframe_dynamic = sub_non_dividing_dataframe[DYNAMIC_FEATURES].values\n",
    "sub_non_dividing_dataframe_shape = sub_non_dividing_dataframe[SHAPE_FEATURES].values\n",
    "\n",
    "print(f'Loaded data from prediction, mitosis dynamic data {sub_dividing_dataframe_dynamic.shape} and shape data {sub_dividing_dataframe_shape.shape}')\n",
    "print(f'Loaded data from prediction, non mitosis dynamic data {sub_non_dividing_dataframe_dynamic.shape} and shape data {sub_non_dividing_dataframe_shape.shape}')\n",
    "\n",
    "print(f'Choosing random mitosis track {random_dividing_track} and a random non-mitosis track {random_non_dividing_track}')"
   ]
  },
  {
   "cell_type": "code",
   "execution_count": null,
   "metadata": {},
   "outputs": [],
   "source": [
    "class_map = {\n",
    "    0: \"non-mitosis\",\n",
    "    1: \"mitosis\"\n",
    "}\n",
    "\n",
    "def create_prediction_arrays(array, start_index, legend='shape'):\n",
    "    \n",
    "    end_index = start_index + tracklet_length\n",
    "    sub_array = array[start_index:end_index, :]\n",
    "    \n",
    "    plot_input_data(sub_array, legend)\n",
    "    return sub_array\n",
    "\n",
    "def make_prediction(input_data, model):\n",
    "    with torch.no_grad():\n",
    "        input_tensor = torch.tensor(input_data).unsqueeze(0).permute(0, 2, 1).float()\n",
    "        model_predictions = model(input_tensor)\n",
    "        probabilities = torch.softmax(model_predictions[0], dim=0)\n",
    "        print(probabilities)\n",
    "        _, predicted_class = torch.max(probabilities, 0)\n",
    "    return predicted_class\n",
    "\n",
    "def plot_input_data(input_data, legend):\n",
    "\n",
    "  \n",
    "    clear_output(wait=True)\n",
    "    plt.figure(figsize=(10, 5))\n",
    "    plt.plot(input_data)\n",
    "    plt.xlabel('Time')\n",
    "    plt.ylabel('Value')\n",
    "    plt.title('Input Data')\n",
    "    plt.legend(legend)\n",
    "   "
   ]
  },
  {
   "cell_type": "code",
   "execution_count": null,
   "metadata": {},
   "outputs": [],
   "source": [
    "\n",
    "def interactive_shape_prediction(start_index):\n",
    "    sub_array = create_prediction_arrays(sub_dividing_dataframe_shape, start_index, legend=SHAPE_FEATURES)\n",
    "    prediction = make_prediction(sub_array, shape_torch_model)\n",
    "    print(\"Prediction:\", class_map[int(prediction)])\n",
    "\n",
    "\n",
    "start_index_slider = widgets.IntSlider(value=0, min=0, max=sub_dividing_dataframe_shape.shape[0] - tracklet_length, description='Start Index:')\n",
    "widgets.interact(interactive_shape_prediction, start_index=start_index_slider)"
   ]
  },
  {
   "cell_type": "code",
   "execution_count": null,
   "metadata": {},
   "outputs": [],
   "source": [
    "def interactive_dynamic_prediction(start_index):\n",
    "    sub_array = create_prediction_arrays(sub_dividing_dataframe_dynamic, start_index, legend=DYNAMIC_FEATURES)\n",
    "    prediction = make_prediction(sub_array, dynamic_torch_model)\n",
    "    print(\"Prediction:\", class_map[int(prediction)])\n",
    "\n",
    "second_start_index_slider = widgets.IntSlider(value=0, min=0, max=sub_dividing_dataframe_dynamic.shape[0] - tracklet_length, description='Start Index:')\n",
    "widgets.interact(interactive_dynamic_prediction, start_index=second_start_index_slider)"
   ]
  },
  {
   "cell_type": "code",
   "execution_count": null,
   "metadata": {},
   "outputs": [],
   "source": [
    "def interactive_dual_prediction(start_index):\n",
    "    sub_array = create_prediction_arrays(sub_dividing_dataframe_dynamic, start_index, legend=DYNAMIC_FEATURES)\n",
    "    prediction = make_prediction(sub_array, dynamic_torch_model)\n",
    "    \n",
    "    sub_array = create_prediction_arrays(sub_dividing_dataframe_shape, start_index, legend=SHAPE_FEATURES)\n",
    "    prediction_shape = make_prediction(sub_array, shape_torch_model)\n",
    "    print(prediction)\n",
    "    \n",
    "    prediction = prediction or prediction_shape\n",
    "    \n",
    "    print(prediction_shape)\n",
    "    print(\"Prediction:\",  class_map[int(prediction)])\n",
    "\n",
    "second_start_index_slider = widgets.IntSlider(value=0, min=0, max=sub_dividing_dataframe_dynamic.shape[0] - tracklet_length, description='Start Index:')\n",
    "widgets.interact(interactive_dual_prediction, start_index=second_start_index_slider)"
   ]
  },
  {
   "cell_type": "code",
   "execution_count": null,
   "metadata": {},
   "outputs": [],
   "source": []
  }
 ],
 "metadata": {
  "kernelspec": {
   "display_name": "kapoorlabsenv",
   "language": "python",
   "name": "python3"
  },
  "language_info": {
   "codemirror_mode": {
    "name": "ipython",
    "version": 3
   },
   "file_extension": ".py",
   "mimetype": "text/x-python",
   "name": "python",
   "nbconvert_exporter": "python",
   "pygments_lexer": "ipython3",
   "version": "3.10.13"
  }
 },
 "nbformat": 4,
 "nbformat_minor": 2
}
